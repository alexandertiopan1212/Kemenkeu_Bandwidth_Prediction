{
 "cells": [
  {
   "cell_type": "markdown",
   "id": "4b14553f",
   "metadata": {},
   "source": [
    "# Predicting Kemenkeu Training Center's Internet Bandwidth Capacity with ARIMA from Scratch"
   ]
  },
  {
   "cell_type": "markdown",
   "id": "e1b1fb4c",
   "metadata": {},
   "source": [
    "-------"
   ]
  },
  {
   "cell_type": "markdown",
   "id": "9f7c0ade",
   "metadata": {},
   "source": [
    "### Project Overview"
   ]
  },
  {
   "cell_type": "markdown",
   "id": "bdb69667",
   "metadata": {},
   "source": [
    "The office relies on various applications for its business and operational processes, which are based on data communication. Bandwidth, measured in bits per second (bps), represents the speed of data transfer. Insufficient bandwidth can hinder access and cause disruptions. Determining the right amount of bandwidth is crucial for service quality but often doesn't consider past utilization data. Data mining is used to forecast bandwidth utilization. Research data from utilization reports is transformed and used for modeling."
   ]
  },
  {
   "cell_type": "markdown",
   "id": "6c77af11",
   "metadata": {},
   "source": [
    "### Import Library"
   ]
  },
  {
   "cell_type": "code",
   "execution_count": 1,
   "id": "6c2ac412",
   "metadata": {},
   "outputs": [],
   "source": [
    "# Import Libraries\n",
    "\n",
    "# Utility\n",
    "import pandas as pd  # For Data Table Processing\n",
    "import numpy as np   # For Mathematical Functions\n",
    "import math          # For Mathematical Functions\n",
    "\n",
    "import plotly.express as px  # For Plotting Graphs\n",
    "import plotly.io as pio\n",
    "pio.renderers.default = \"svg\" # static plotly\n",
    "from matplotlib import pyplot as plt  # For Plotting Graphs\n",
    "\n",
    "# Statistical Functions\n",
    "from statsmodels.tsa.stattools import acf, pacf, adfuller\n",
    "from statsmodels.graphics.tsaplots import plot_acf, plot_pacf\n",
    "from sklearn.metrics import mean_absolute_percentage_error, mean_squared_error, mean_absolute_error\n",
    "\n",
    "import warnings\n",
    "warnings.filterwarnings('ignore')"
   ]
  },
  {
   "cell_type": "markdown",
   "id": "d9e0be12",
   "metadata": {},
   "source": [
    "### Data Inputs"
   ]
  },
  {
   "cell_type": "code",
   "execution_count": 2,
   "id": "539bcd73",
   "metadata": {},
   "outputs": [
    {
     "data": {
      "text/html": [
       "<div>\n",
       "<style scoped>\n",
       "    .dataframe tbody tr th:only-of-type {\n",
       "        vertical-align: middle;\n",
       "    }\n",
       "\n",
       "    .dataframe tbody tr th {\n",
       "        vertical-align: top;\n",
       "    }\n",
       "\n",
       "    .dataframe thead th {\n",
       "        text-align: right;\n",
       "    }\n",
       "</style>\n",
       "<table border=\"1\" class=\"dataframe\">\n",
       "  <thead>\n",
       "    <tr style=\"text-align: right;\">\n",
       "      <th></th>\n",
       "      <th>Date</th>\n",
       "      <th>Komunikasi Data Kantor Pusat BPPK</th>\n",
       "      <th>Balai Diklat Keuangan Balikpapan</th>\n",
       "      <th>Balai Diklat Keuangan Cimahi</th>\n",
       "      <th>Balai Diklat Keuangan Denpasar</th>\n",
       "      <th>Balai Diklat Keuangan Makassar</th>\n",
       "      <th>Balai Diklat Keuangan Malang</th>\n",
       "      <th>Balai Diklat Keuangan Manado</th>\n",
       "      <th>Balai Diklat Keuangan Medan</th>\n",
       "      <th>Balai Diklat Keuangan Palembang</th>\n",
       "      <th>Balai Diklat Keuangan Pekanbaru</th>\n",
       "      <th>Balai Diklat Keuangan Pontianak</th>\n",
       "      <th>Balai Diklat Keuangan Yogyakarta</th>\n",
       "      <th>Komunikasi Data Kantor Pusat BPPK.1</th>\n",
       "      <th>PKN STAN</th>\n",
       "      <th>Pusdiklat Anggaran dan Perbendaharaan</th>\n",
       "      <th>Pusdiklat Bea dan Cukai</th>\n",
       "      <th>Pusdiklat Keuangan Umum</th>\n",
       "      <th>Pusdiklat Pajak</th>\n",
       "      <th>Pusdiklat Pegawai Magelang</th>\n",
       "    </tr>\n",
       "  </thead>\n",
       "  <tbody>\n",
       "    <tr>\n",
       "      <th>0</th>\n",
       "      <td>2023-05-01</td>\n",
       "      <td>541.81</td>\n",
       "      <td>35.40</td>\n",
       "      <td>10.90</td>\n",
       "      <td>61.82</td>\n",
       "      <td>75.03</td>\n",
       "      <td>30.03</td>\n",
       "      <td>1050.05</td>\n",
       "      <td>64.65</td>\n",
       "      <td>151.69</td>\n",
       "      <td>11892.53</td>\n",
       "      <td>639.18</td>\n",
       "      <td>752.27</td>\n",
       "      <td>96.30</td>\n",
       "      <td>38.40</td>\n",
       "      <td>61.03</td>\n",
       "      <td>115.72</td>\n",
       "      <td>349.18</td>\n",
       "      <td>659.65</td>\n",
       "      <td>35.83</td>\n",
       "    </tr>\n",
       "    <tr>\n",
       "      <th>1</th>\n",
       "      <td>2023-05-02</td>\n",
       "      <td>10821.15</td>\n",
       "      <td>5466.11</td>\n",
       "      <td>39545.26</td>\n",
       "      <td>593.67</td>\n",
       "      <td>1425.14</td>\n",
       "      <td>9421.17</td>\n",
       "      <td>13766.77</td>\n",
       "      <td>8718.70</td>\n",
       "      <td>12089.69</td>\n",
       "      <td>24332.40</td>\n",
       "      <td>2968.06</td>\n",
       "      <td>33487.48</td>\n",
       "      <td>102717.86</td>\n",
       "      <td>7397.82</td>\n",
       "      <td>4455.32</td>\n",
       "      <td>45304.10</td>\n",
       "      <td>47579.84</td>\n",
       "      <td>19013.15</td>\n",
       "      <td>2112.34</td>\n",
       "    </tr>\n",
       "    <tr>\n",
       "      <th>2</th>\n",
       "      <td>2023-05-03</td>\n",
       "      <td>10122.74</td>\n",
       "      <td>1649.56</td>\n",
       "      <td>14363.84</td>\n",
       "      <td>1797.29</td>\n",
       "      <td>3209.23</td>\n",
       "      <td>1158.07</td>\n",
       "      <td>21437.17</td>\n",
       "      <td>1227.71</td>\n",
       "      <td>13263.70</td>\n",
       "      <td>26919.12</td>\n",
       "      <td>3036.85</td>\n",
       "      <td>27018.20</td>\n",
       "      <td>139675.87</td>\n",
       "      <td>2771.63</td>\n",
       "      <td>4362.88</td>\n",
       "      <td>7909.99</td>\n",
       "      <td>82021.54</td>\n",
       "      <td>24516.92</td>\n",
       "      <td>208.52</td>\n",
       "    </tr>\n",
       "    <tr>\n",
       "      <th>3</th>\n",
       "      <td>2023-05-04</td>\n",
       "      <td>4875.63</td>\n",
       "      <td>1070.31</td>\n",
       "      <td>14762.94</td>\n",
       "      <td>2284.83</td>\n",
       "      <td>996.14</td>\n",
       "      <td>9392.69</td>\n",
       "      <td>10484.33</td>\n",
       "      <td>15808.21</td>\n",
       "      <td>9692.37</td>\n",
       "      <td>3029.69</td>\n",
       "      <td>853.99</td>\n",
       "      <td>27015.03</td>\n",
       "      <td>127974.11</td>\n",
       "      <td>6268.73</td>\n",
       "      <td>11412.55</td>\n",
       "      <td>6914.87</td>\n",
       "      <td>83596.85</td>\n",
       "      <td>39402.96</td>\n",
       "      <td>1590.91</td>\n",
       "    </tr>\n",
       "    <tr>\n",
       "      <th>4</th>\n",
       "      <td>2023-05-05</td>\n",
       "      <td>11111.51</td>\n",
       "      <td>22221.06</td>\n",
       "      <td>7669.59</td>\n",
       "      <td>2369.36</td>\n",
       "      <td>28691.15</td>\n",
       "      <td>2497.45</td>\n",
       "      <td>15439.79</td>\n",
       "      <td>610.20</td>\n",
       "      <td>6527.28</td>\n",
       "      <td>1720.22</td>\n",
       "      <td>6943.04</td>\n",
       "      <td>736.69</td>\n",
       "      <td>49328.13</td>\n",
       "      <td>21017.58</td>\n",
       "      <td>92343.90</td>\n",
       "      <td>2863.25</td>\n",
       "      <td>1974.63</td>\n",
       "      <td>1363.35</td>\n",
       "      <td>1327.17</td>\n",
       "    </tr>\n",
       "  </tbody>\n",
       "</table>\n",
       "</div>"
      ],
      "text/plain": [
       "        Date  Komunikasi Data Kantor Pusat BPPK  \\\n",
       "0 2023-05-01                             541.81   \n",
       "1 2023-05-02                           10821.15   \n",
       "2 2023-05-03                           10122.74   \n",
       "3 2023-05-04                            4875.63   \n",
       "4 2023-05-05                           11111.51   \n",
       "\n",
       "   Balai Diklat Keuangan Balikpapan  Balai Diklat Keuangan Cimahi  \\\n",
       "0                             35.40                         10.90   \n",
       "1                           5466.11                      39545.26   \n",
       "2                           1649.56                      14363.84   \n",
       "3                           1070.31                      14762.94   \n",
       "4                          22221.06                       7669.59   \n",
       "\n",
       "   Balai Diklat Keuangan Denpasar  Balai Diklat Keuangan Makassar  \\\n",
       "0                           61.82                           75.03   \n",
       "1                          593.67                         1425.14   \n",
       "2                         1797.29                         3209.23   \n",
       "3                         2284.83                          996.14   \n",
       "4                         2369.36                        28691.15   \n",
       "\n",
       "   Balai Diklat Keuangan Malang  Balai Diklat Keuangan Manado  \\\n",
       "0                         30.03                       1050.05   \n",
       "1                       9421.17                      13766.77   \n",
       "2                       1158.07                      21437.17   \n",
       "3                       9392.69                      10484.33   \n",
       "4                       2497.45                      15439.79   \n",
       "\n",
       "   Balai Diklat Keuangan Medan  Balai Diklat Keuangan Palembang  \\\n",
       "0                        64.65                           151.69   \n",
       "1                      8718.70                         12089.69   \n",
       "2                      1227.71                         13263.70   \n",
       "3                     15808.21                          9692.37   \n",
       "4                       610.20                          6527.28   \n",
       "\n",
       "   Balai Diklat Keuangan Pekanbaru  Balai Diklat Keuangan Pontianak  \\\n",
       "0                         11892.53                           639.18   \n",
       "1                         24332.40                          2968.06   \n",
       "2                         26919.12                          3036.85   \n",
       "3                          3029.69                           853.99   \n",
       "4                          1720.22                          6943.04   \n",
       "\n",
       "   Balai Diklat Keuangan Yogyakarta  Komunikasi Data Kantor Pusat BPPK.1  \\\n",
       "0                            752.27                                96.30   \n",
       "1                          33487.48                            102717.86   \n",
       "2                          27018.20                            139675.87   \n",
       "3                          27015.03                            127974.11   \n",
       "4                            736.69                             49328.13   \n",
       "\n",
       "   PKN STAN  Pusdiklat Anggaran dan Perbendaharaan  Pusdiklat Bea dan Cukai  \\\n",
       "0     38.40                                  61.03                   115.72   \n",
       "1   7397.82                                4455.32                 45304.10   \n",
       "2   2771.63                                4362.88                  7909.99   \n",
       "3   6268.73                               11412.55                  6914.87   \n",
       "4  21017.58                               92343.90                  2863.25   \n",
       "\n",
       "   Pusdiklat Keuangan Umum  Pusdiklat Pajak  Pusdiklat Pegawai Magelang  \n",
       "0                   349.18           659.65                       35.83  \n",
       "1                 47579.84         19013.15                     2112.34  \n",
       "2                 82021.54         24516.92                      208.52  \n",
       "3                 83596.85         39402.96                     1590.91  \n",
       "4                  1974.63          1363.35                     1327.17  "
      ]
     },
     "execution_count": 2,
     "metadata": {},
     "output_type": "execute_result"
    }
   ],
   "source": [
    "file_path = './dataset.xlsx'  # File location\n",
    "\n",
    "xls = pd.ExcelFile(file_path)  # Excel File Location\n",
    "data = pd.read_excel(xls, 'Sheet1')  # Importing Sheet From Excel File\n",
    "data.head()  # Display Dataset"
   ]
  },
  {
   "cell_type": "markdown",
   "id": "25746db5",
   "metadata": {},
   "source": [
    "This dataset provides an overview of data communication usage (in bits per second, bps) across various financial training centers and offices on different dates. Each row represents a specific date, and the columns indicate the data communication usage for different locations, such as the central office and various financial training centers"
   ]
  },
  {
   "cell_type": "code",
   "execution_count": 3,
   "id": "b2d0703f",
   "metadata": {
    "scrolled": false
   },
   "outputs": [
    {
     "data": {
      "text/plain": [
       "Date                                     0\n",
       "Komunikasi Data Kantor Pusat BPPK        0\n",
       "Balai Diklat Keuangan Balikpapan         0\n",
       "Balai Diklat Keuangan Cimahi             0\n",
       "Balai Diklat Keuangan Denpasar           0\n",
       "Balai Diklat Keuangan Makassar           0\n",
       "Balai Diklat Keuangan Malang             0\n",
       "Balai Diklat Keuangan Manado             0\n",
       "Balai Diklat Keuangan Medan              0\n",
       "Balai Diklat Keuangan Palembang          0\n",
       "Balai Diklat Keuangan Pekanbaru          0\n",
       "Balai Diklat Keuangan Pontianak          0\n",
       "Balai Diklat Keuangan Yogyakarta         0\n",
       "Komunikasi Data Kantor Pusat BPPK.1      0\n",
       "PKN STAN                                 0\n",
       "Pusdiklat Anggaran dan Perbendaharaan    0\n",
       "Pusdiklat Bea dan Cukai                  0\n",
       "Pusdiklat Keuangan Umum                  0\n",
       "Pusdiklat Pajak                          0\n",
       "Pusdiklat Pegawai Magelang               0\n",
       "dtype: int64"
      ]
     },
     "execution_count": 3,
     "metadata": {},
     "output_type": "execute_result"
    }
   ],
   "source": [
    "# Missing value check\n",
    "data.isnull().sum()"
   ]
  },
  {
   "cell_type": "markdown",
   "id": "762cdf88",
   "metadata": {},
   "source": [
    "\n",
    "This output shows the number of missing values (NaN) for each column in the dataset. The number indicates how many rows in each column do not have a value recorded for that particular column. A value of 0 means that there are no missing values in that column."
   ]
  },
  {
   "cell_type": "code",
   "execution_count": 4,
   "id": "04c16d8b",
   "metadata": {},
   "outputs": [
    {
     "name": "stdout",
     "output_type": "stream",
     "text": [
      "Location - Komunikasi Data Kantor Pusat BPPK\n",
      "Location - Balai Diklat Keuangan Balikpapan\n",
      "Location - Balai Diklat Keuangan Cimahi\n",
      "Location - Balai Diklat Keuangan Denpasar\n",
      "Location - Balai Diklat Keuangan Makassar\n",
      "Location - Balai Diklat Keuangan Malang\n",
      "Location - Balai Diklat Keuangan Manado\n",
      "Location - Balai Diklat Keuangan Medan\n",
      "Location - Balai Diklat Keuangan Palembang\n",
      "Location - Balai Diklat Keuangan Pekanbaru\n",
      "Location - Balai Diklat Keuangan Pontianak\n",
      "Location - Balai Diklat Keuangan Yogyakarta\n",
      "Location - Komunikasi Data Kantor Pusat BPPK.1\n",
      "Location - PKN STAN\n",
      "Location - Pusdiklat Anggaran dan Perbendaharaan\n",
      "Location - Pusdiklat Bea dan Cukai\n",
      "Location - Pusdiklat Keuangan Umum\n",
      "Location - Pusdiklat Pajak\n",
      "Location - Pusdiklat Pegawai Magelang\n"
     ]
    }
   ],
   "source": [
    "# Location List\n",
    "locations = data.drop(['Date'], axis=1).columns\n",
    "for location in locations:\n",
    "  print(f\"Location - {location}\")"
   ]
  },
  {
   "cell_type": "code",
   "execution_count": 5,
   "id": "fa89b718",
   "metadata": {},
   "outputs": [
    {
     "data": {
      "text/html": [
       "<div>\n",
       "<style scoped>\n",
       "    .dataframe tbody tr th:only-of-type {\n",
       "        vertical-align: middle;\n",
       "    }\n",
       "\n",
       "    .dataframe tbody tr th {\n",
       "        vertical-align: top;\n",
       "    }\n",
       "\n",
       "    .dataframe thead th {\n",
       "        text-align: right;\n",
       "    }\n",
       "</style>\n",
       "<table border=\"1\" class=\"dataframe\">\n",
       "  <thead>\n",
       "    <tr style=\"text-align: right;\">\n",
       "      <th></th>\n",
       "      <th>Komunikasi Data Kantor Pusat BPPK</th>\n",
       "      <th>Balai Diklat Keuangan Balikpapan</th>\n",
       "      <th>Balai Diklat Keuangan Cimahi</th>\n",
       "      <th>Balai Diklat Keuangan Denpasar</th>\n",
       "      <th>Balai Diklat Keuangan Makassar</th>\n",
       "      <th>Balai Diklat Keuangan Malang</th>\n",
       "      <th>Balai Diklat Keuangan Manado</th>\n",
       "      <th>Balai Diklat Keuangan Medan</th>\n",
       "      <th>Balai Diklat Keuangan Palembang</th>\n",
       "      <th>Balai Diklat Keuangan Pekanbaru</th>\n",
       "      <th>Balai Diklat Keuangan Pontianak</th>\n",
       "      <th>Balai Diklat Keuangan Yogyakarta</th>\n",
       "      <th>Komunikasi Data Kantor Pusat BPPK.1</th>\n",
       "      <th>PKN STAN</th>\n",
       "      <th>Pusdiklat Anggaran dan Perbendaharaan</th>\n",
       "      <th>Pusdiklat Bea dan Cukai</th>\n",
       "      <th>Pusdiklat Keuangan Umum</th>\n",
       "      <th>Pusdiklat Pajak</th>\n",
       "      <th>Pusdiklat Pegawai Magelang</th>\n",
       "    </tr>\n",
       "    <tr>\n",
       "      <th>Date</th>\n",
       "      <th></th>\n",
       "      <th></th>\n",
       "      <th></th>\n",
       "      <th></th>\n",
       "      <th></th>\n",
       "      <th></th>\n",
       "      <th></th>\n",
       "      <th></th>\n",
       "      <th></th>\n",
       "      <th></th>\n",
       "      <th></th>\n",
       "      <th></th>\n",
       "      <th></th>\n",
       "      <th></th>\n",
       "      <th></th>\n",
       "      <th></th>\n",
       "      <th></th>\n",
       "      <th></th>\n",
       "      <th></th>\n",
       "    </tr>\n",
       "  </thead>\n",
       "  <tbody>\n",
       "    <tr>\n",
       "      <th>2023-05-01</th>\n",
       "      <td>541.81</td>\n",
       "      <td>35.40</td>\n",
       "      <td>10.90</td>\n",
       "      <td>61.82</td>\n",
       "      <td>75.03</td>\n",
       "      <td>30.03</td>\n",
       "      <td>1050.05</td>\n",
       "      <td>64.65</td>\n",
       "      <td>151.69</td>\n",
       "      <td>11892.53</td>\n",
       "      <td>639.18</td>\n",
       "      <td>752.27</td>\n",
       "      <td>96.30</td>\n",
       "      <td>38.40</td>\n",
       "      <td>61.03</td>\n",
       "      <td>115.72</td>\n",
       "      <td>349.18</td>\n",
       "      <td>659.65</td>\n",
       "      <td>35.83</td>\n",
       "    </tr>\n",
       "    <tr>\n",
       "      <th>2023-05-02</th>\n",
       "      <td>10821.15</td>\n",
       "      <td>5466.11</td>\n",
       "      <td>39545.26</td>\n",
       "      <td>593.67</td>\n",
       "      <td>1425.14</td>\n",
       "      <td>9421.17</td>\n",
       "      <td>13766.77</td>\n",
       "      <td>8718.70</td>\n",
       "      <td>12089.69</td>\n",
       "      <td>24332.40</td>\n",
       "      <td>2968.06</td>\n",
       "      <td>33487.48</td>\n",
       "      <td>102717.86</td>\n",
       "      <td>7397.82</td>\n",
       "      <td>4455.32</td>\n",
       "      <td>45304.10</td>\n",
       "      <td>47579.84</td>\n",
       "      <td>19013.15</td>\n",
       "      <td>2112.34</td>\n",
       "    </tr>\n",
       "    <tr>\n",
       "      <th>2023-05-03</th>\n",
       "      <td>10122.74</td>\n",
       "      <td>1649.56</td>\n",
       "      <td>14363.84</td>\n",
       "      <td>1797.29</td>\n",
       "      <td>3209.23</td>\n",
       "      <td>1158.07</td>\n",
       "      <td>21437.17</td>\n",
       "      <td>1227.71</td>\n",
       "      <td>13263.70</td>\n",
       "      <td>26919.12</td>\n",
       "      <td>3036.85</td>\n",
       "      <td>27018.20</td>\n",
       "      <td>139675.87</td>\n",
       "      <td>2771.63</td>\n",
       "      <td>4362.88</td>\n",
       "      <td>7909.99</td>\n",
       "      <td>82021.54</td>\n",
       "      <td>24516.92</td>\n",
       "      <td>208.52</td>\n",
       "    </tr>\n",
       "    <tr>\n",
       "      <th>2023-05-04</th>\n",
       "      <td>4875.63</td>\n",
       "      <td>1070.31</td>\n",
       "      <td>14762.94</td>\n",
       "      <td>2284.83</td>\n",
       "      <td>996.14</td>\n",
       "      <td>9392.69</td>\n",
       "      <td>10484.33</td>\n",
       "      <td>15808.21</td>\n",
       "      <td>9692.37</td>\n",
       "      <td>3029.69</td>\n",
       "      <td>853.99</td>\n",
       "      <td>27015.03</td>\n",
       "      <td>127974.11</td>\n",
       "      <td>6268.73</td>\n",
       "      <td>11412.55</td>\n",
       "      <td>6914.87</td>\n",
       "      <td>83596.85</td>\n",
       "      <td>39402.96</td>\n",
       "      <td>1590.91</td>\n",
       "    </tr>\n",
       "    <tr>\n",
       "      <th>2023-05-05</th>\n",
       "      <td>11111.51</td>\n",
       "      <td>22221.06</td>\n",
       "      <td>7669.59</td>\n",
       "      <td>2369.36</td>\n",
       "      <td>28691.15</td>\n",
       "      <td>2497.45</td>\n",
       "      <td>15439.79</td>\n",
       "      <td>610.20</td>\n",
       "      <td>6527.28</td>\n",
       "      <td>1720.22</td>\n",
       "      <td>6943.04</td>\n",
       "      <td>736.69</td>\n",
       "      <td>49328.13</td>\n",
       "      <td>21017.58</td>\n",
       "      <td>92343.90</td>\n",
       "      <td>2863.25</td>\n",
       "      <td>1974.63</td>\n",
       "      <td>1363.35</td>\n",
       "      <td>1327.17</td>\n",
       "    </tr>\n",
       "  </tbody>\n",
       "</table>\n",
       "</div>"
      ],
      "text/plain": [
       "            Komunikasi Data Kantor Pusat BPPK  \\\n",
       "Date                                            \n",
       "2023-05-01                             541.81   \n",
       "2023-05-02                           10821.15   \n",
       "2023-05-03                           10122.74   \n",
       "2023-05-04                            4875.63   \n",
       "2023-05-05                           11111.51   \n",
       "\n",
       "            Balai Diklat Keuangan Balikpapan  Balai Diklat Keuangan Cimahi  \\\n",
       "Date                                                                         \n",
       "2023-05-01                             35.40                         10.90   \n",
       "2023-05-02                           5466.11                      39545.26   \n",
       "2023-05-03                           1649.56                      14363.84   \n",
       "2023-05-04                           1070.31                      14762.94   \n",
       "2023-05-05                          22221.06                       7669.59   \n",
       "\n",
       "            Balai Diklat Keuangan Denpasar  Balai Diklat Keuangan Makassar  \\\n",
       "Date                                                                         \n",
       "2023-05-01                           61.82                           75.03   \n",
       "2023-05-02                          593.67                         1425.14   \n",
       "2023-05-03                         1797.29                         3209.23   \n",
       "2023-05-04                         2284.83                          996.14   \n",
       "2023-05-05                         2369.36                        28691.15   \n",
       "\n",
       "            Balai Diklat Keuangan Malang  Balai Diklat Keuangan Manado  \\\n",
       "Date                                                                     \n",
       "2023-05-01                         30.03                       1050.05   \n",
       "2023-05-02                       9421.17                      13766.77   \n",
       "2023-05-03                       1158.07                      21437.17   \n",
       "2023-05-04                       9392.69                      10484.33   \n",
       "2023-05-05                       2497.45                      15439.79   \n",
       "\n",
       "            Balai Diklat Keuangan Medan  Balai Diklat Keuangan Palembang  \\\n",
       "Date                                                                       \n",
       "2023-05-01                        64.65                           151.69   \n",
       "2023-05-02                      8718.70                         12089.69   \n",
       "2023-05-03                      1227.71                         13263.70   \n",
       "2023-05-04                     15808.21                          9692.37   \n",
       "2023-05-05                       610.20                          6527.28   \n",
       "\n",
       "            Balai Diklat Keuangan Pekanbaru  Balai Diklat Keuangan Pontianak  \\\n",
       "Date                                                                           \n",
       "2023-05-01                         11892.53                           639.18   \n",
       "2023-05-02                         24332.40                          2968.06   \n",
       "2023-05-03                         26919.12                          3036.85   \n",
       "2023-05-04                          3029.69                           853.99   \n",
       "2023-05-05                          1720.22                          6943.04   \n",
       "\n",
       "            Balai Diklat Keuangan Yogyakarta  \\\n",
       "Date                                           \n",
       "2023-05-01                            752.27   \n",
       "2023-05-02                          33487.48   \n",
       "2023-05-03                          27018.20   \n",
       "2023-05-04                          27015.03   \n",
       "2023-05-05                            736.69   \n",
       "\n",
       "            Komunikasi Data Kantor Pusat BPPK.1  PKN STAN  \\\n",
       "Date                                                        \n",
       "2023-05-01                                96.30     38.40   \n",
       "2023-05-02                            102717.86   7397.82   \n",
       "2023-05-03                            139675.87   2771.63   \n",
       "2023-05-04                            127974.11   6268.73   \n",
       "2023-05-05                             49328.13  21017.58   \n",
       "\n",
       "            Pusdiklat Anggaran dan Perbendaharaan  Pusdiklat Bea dan Cukai  \\\n",
       "Date                                                                         \n",
       "2023-05-01                                  61.03                   115.72   \n",
       "2023-05-02                                4455.32                 45304.10   \n",
       "2023-05-03                                4362.88                  7909.99   \n",
       "2023-05-04                               11412.55                  6914.87   \n",
       "2023-05-05                               92343.90                  2863.25   \n",
       "\n",
       "            Pusdiklat Keuangan Umum  Pusdiklat Pajak  \\\n",
       "Date                                                   \n",
       "2023-05-01                   349.18           659.65   \n",
       "2023-05-02                 47579.84         19013.15   \n",
       "2023-05-03                 82021.54         24516.92   \n",
       "2023-05-04                 83596.85         39402.96   \n",
       "2023-05-05                  1974.63          1363.35   \n",
       "\n",
       "            Pusdiklat Pegawai Magelang  \n",
       "Date                                    \n",
       "2023-05-01                       35.83  \n",
       "2023-05-02                     2112.34  \n",
       "2023-05-03                      208.52  \n",
       "2023-05-04                     1590.91  \n",
       "2023-05-05                     1327.17  "
      ]
     },
     "execution_count": 5,
     "metadata": {},
     "output_type": "execute_result"
    }
   ],
   "source": [
    "data['Date'] = pd.to_datetime(data['Date'])  # Convert to Datetime Format\n",
    "data.set_index('Date', inplace=True) # Set date as index\n",
    "data.head()"
   ]
  },
  {
   "cell_type": "markdown",
   "id": "f93c687d",
   "metadata": {},
   "source": [
    "### Data Exploration"
   ]
  },
  {
   "cell_type": "code",
   "execution_count": 6,
   "id": "53108167",
   "metadata": {},
   "outputs": [
    {
     "data": {
      "image/svg+xml": [
       "<svg class=\"main-svg\" xmlns=\"http://www.w3.org/2000/svg\" xmlns:xlink=\"http://www.w3.org/1999/xlink\" width=\"1000\" height=\"350\" style=\"\" viewBox=\"0 0 1000 350\"><rect x=\"0\" y=\"0\" width=\"1000\" height=\"350\" style=\"fill: rgb(17, 17, 17); fill-opacity: 1;\"/><defs id=\"defs-972d6e\"><g class=\"clips\"><clipPath id=\"clip972d6exyplot\" class=\"plotclip\"><rect width=\"840\" height=\"210\"/></clipPath><clipPath class=\"axesclip\" id=\"clip972d6ex\"><rect x=\"80\" y=\"0\" width=\"840\" height=\"350\"/></clipPath><clipPath class=\"axesclip\" id=\"clip972d6ey\"><rect x=\"0\" y=\"60\" width=\"1000\" height=\"210\"/></clipPath><clipPath class=\"axesclip\" id=\"clip972d6exy\"><rect x=\"80\" y=\"60\" width=\"840\" height=\"210\"/></clipPath></g><g class=\"gradients\"/><g class=\"patterns\"/></defs><g class=\"bglayer\"/><g class=\"layer-below\"><g class=\"imagelayer\"/><g class=\"shapelayer\"/></g><g class=\"cartesianlayer\"><g class=\"subplot xy\"><g class=\"layer-subplot\"><g class=\"shapelayer\"/><g class=\"imagelayer\"/></g><g class=\"minor-gridlayer\"><g class=\"x\"/><g class=\"y\"/></g><g class=\"gridlayer\"><g class=\"x\"><path class=\"xgrid crisp\" transform=\"translate(202.25,0)\" d=\"M0,60v210\" style=\"stroke: rgb(40, 52, 66); stroke-opacity: 1; stroke-width: 1px;\"/><path class=\"xgrid crisp\" transform=\"translate(320.56,0)\" d=\"M0,60v210\" style=\"stroke: rgb(40, 52, 66); stroke-opacity: 1; stroke-width: 1px;\"/><path class=\"xgrid crisp\" transform=\"translate(442.82,0)\" d=\"M0,60v210\" style=\"stroke: rgb(40, 52, 66); stroke-opacity: 1; stroke-width: 1px;\"/><path class=\"xgrid crisp\" transform=\"translate(565.0699999999999,0)\" d=\"M0,60v210\" style=\"stroke: rgb(40, 52, 66); stroke-opacity: 1; stroke-width: 1px;\"/><path class=\"xgrid crisp\" transform=\"translate(683.38,0)\" d=\"M0,60v210\" style=\"stroke: rgb(40, 52, 66); stroke-opacity: 1; stroke-width: 1px;\"/><path class=\"xgrid crisp\" transform=\"translate(805.63,0)\" d=\"M0,60v210\" style=\"stroke: rgb(40, 52, 66); stroke-opacity: 1; stroke-width: 1px;\"/></g><g class=\"y\"><path class=\"ygrid crisp\" transform=\"translate(0,219.78)\" d=\"M80,0h840\" style=\"stroke: rgb(40, 52, 66); stroke-opacity: 1; stroke-width: 1px;\"/><path class=\"ygrid crisp\" transform=\"translate(0,180.06)\" d=\"M80,0h840\" style=\"stroke: rgb(40, 52, 66); stroke-opacity: 1; stroke-width: 1px;\"/><path class=\"ygrid crisp\" transform=\"translate(0,140.34)\" d=\"M80,0h840\" style=\"stroke: rgb(40, 52, 66); stroke-opacity: 1; stroke-width: 1px;\"/><path class=\"ygrid crisp\" transform=\"translate(0,100.62)\" d=\"M80,0h840\" style=\"stroke: rgb(40, 52, 66); stroke-opacity: 1; stroke-width: 1px;\"/></g></g><g class=\"zerolinelayer\"><path class=\"yzl zl crisp\" transform=\"translate(0,259.5)\" d=\"M80,0h840\" style=\"stroke: rgb(40, 52, 66); stroke-opacity: 1; stroke-width: 2px;\"/></g><path class=\"xlines-below\"/><path class=\"ylines-below\"/><g class=\"overlines-below\"/><g class=\"xaxislayer-below\"/><g class=\"yaxislayer-below\"/><g class=\"overaxes-below\"/><g class=\"plot\" transform=\"translate(80,60)\" clip-path=\"url(#clip972d6exyplot)\"/><g class=\"overplot\"/><path class=\"xlines-above crisp\" d=\"M0,0\" style=\"fill: none;\"/><path class=\"ylines-above crisp\" d=\"M0,0\" style=\"fill: none;\"/><g class=\"overlines-above\"/><g class=\"xaxislayer-above\"><g class=\"xtick\"><text text-anchor=\"middle\" x=\"0\" y=\"283\" transform=\"translate(80,0)\" style=\"font-family: 'Open Sans', verdana, arial, sans-serif; font-size: 12px; fill: rgb(242, 245, 250); fill-opacity: 1; white-space: pre; opacity: 1;\">May 2023</text></g><g class=\"xtick\"><text text-anchor=\"middle\" x=\"0\" y=\"283\" style=\"font-family: 'Open Sans', verdana, arial, sans-serif; font-size: 12px; fill: rgb(242, 245, 250); fill-opacity: 1; white-space: pre; opacity: 1;\" transform=\"translate(202.25,0)\">Jun 2023</text></g><g class=\"xtick\"><text text-anchor=\"middle\" x=\"0\" y=\"283\" style=\"font-family: 'Open Sans', verdana, arial, sans-serif; font-size: 12px; fill: rgb(242, 245, 250); fill-opacity: 1; white-space: pre; opacity: 1;\" transform=\"translate(320.56,0)\">Jul 2023</text></g><g class=\"xtick\"><text text-anchor=\"middle\" x=\"0\" y=\"283\" style=\"font-family: 'Open Sans', verdana, arial, sans-serif; font-size: 12px; fill: rgb(242, 245, 250); fill-opacity: 1; white-space: pre; opacity: 1;\" transform=\"translate(442.82,0)\">Aug 2023</text></g><g class=\"xtick\"><text text-anchor=\"middle\" x=\"0\" y=\"283\" style=\"font-family: 'Open Sans', verdana, arial, sans-serif; font-size: 12px; fill: rgb(242, 245, 250); fill-opacity: 1; white-space: pre; opacity: 1;\" transform=\"translate(565.0699999999999,0)\">Sep 2023</text></g><g class=\"xtick\"><text text-anchor=\"middle\" x=\"0\" y=\"283\" style=\"font-family: 'Open Sans', verdana, arial, sans-serif; font-size: 12px; fill: rgb(242, 245, 250); fill-opacity: 1; white-space: pre; opacity: 1;\" transform=\"translate(683.38,0)\">Oct 2023</text></g><g class=\"xtick\"><text text-anchor=\"middle\" x=\"0\" y=\"283\" style=\"font-family: 'Open Sans', verdana, arial, sans-serif; font-size: 12px; fill: rgb(242, 245, 250); fill-opacity: 1; white-space: pre; opacity: 1;\" transform=\"translate(805.63,0)\">Nov 2023</text></g></g><g class=\"yaxislayer-above\"><g class=\"ytick\"><text text-anchor=\"end\" x=\"79\" y=\"4.199999999999999\" transform=\"translate(0,259.5)\" style=\"font-family: 'Open Sans', verdana, arial, sans-serif; font-size: 12px; fill: rgb(242, 245, 250); fill-opacity: 1; white-space: pre; opacity: 1;\">0</text></g><g class=\"ytick\"><text text-anchor=\"end\" x=\"79\" y=\"4.199999999999999\" style=\"font-family: 'Open Sans', verdana, arial, sans-serif; font-size: 12px; fill: rgb(242, 245, 250); fill-opacity: 1; white-space: pre; opacity: 1;\" transform=\"translate(0,219.78)\">100k</text></g><g class=\"ytick\"><text text-anchor=\"end\" x=\"79\" y=\"4.199999999999999\" style=\"font-family: 'Open Sans', verdana, arial, sans-serif; font-size: 12px; fill: rgb(242, 245, 250); fill-opacity: 1; white-space: pre; opacity: 1;\" transform=\"translate(0,180.06)\">200k</text></g><g class=\"ytick\"><text text-anchor=\"end\" x=\"79\" y=\"4.199999999999999\" style=\"font-family: 'Open Sans', verdana, arial, sans-serif; font-size: 12px; fill: rgb(242, 245, 250); fill-opacity: 1; white-space: pre; opacity: 1;\" transform=\"translate(0,140.34)\">300k</text></g><g class=\"ytick\"><text text-anchor=\"end\" x=\"79\" y=\"4.199999999999999\" style=\"font-family: 'Open Sans', verdana, arial, sans-serif; font-size: 12px; fill: rgb(242, 245, 250); fill-opacity: 1; white-space: pre; opacity: 1;\" transform=\"translate(0,100.62)\">400k</text></g><g class=\"ytick\"><text text-anchor=\"end\" x=\"79\" y=\"4.199999999999999\" style=\"font-family: 'Open Sans', verdana, arial, sans-serif; font-size: 12px; fill: rgb(242, 245, 250); fill-opacity: 1; white-space: pre; opacity: 1;\" transform=\"translate(0,60.9)\">500k</text></g></g><g class=\"overaxes-above\"/></g></g><g class=\"polarlayer\"/><g class=\"smithlayer\"/><g class=\"ternarylayer\"/><g class=\"geolayer\"/><g class=\"funnelarealayer\"/><g class=\"pielayer\"/><g class=\"iciclelayer\"/><g class=\"treemaplayer\"/><g class=\"sunburstlayer\"/><g class=\"glimages\"><image xmlns=\"http://www.w3.org/2000/svg\" xlink:href=\"data:image/png;base64,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\" preserveAspectRatio=\"none\" x=\"0\" y=\"0\" width=\"1000px\" height=\"350px\"/><image xmlns=\"http://www.w3.org/2000/svg\" xlink:href=\"data:image/png;base64,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\" preserveAspectRatio=\"none\" x=\"0\" y=\"0\" width=\"1000px\" height=\"350px\"/></g><defs id=\"topdefs-972d6e\"><g class=\"clips\"/></defs><g class=\"layer-above\"><g class=\"imagelayer\"/><g class=\"shapelayer\"/></g><g class=\"infolayer\"><g class=\"g-gtitle\"/><g class=\"g-xtitle\"><text class=\"xtitle\" x=\"500\" y=\"310.8\" text-anchor=\"middle\" style=\"font-family: 'Open Sans', verdana, arial, sans-serif; font-size: 14px; fill: rgb(242, 245, 250); opacity: 1; font-weight: normal; white-space: pre;\">Date</text></g><g class=\"g-ytitle\"><text class=\"ytitle\" transform=\"rotate(-90,24.200000000000003,165)\" x=\"24.200000000000003\" y=\"165\" text-anchor=\"middle\" style=\"font-family: 'Open Sans', verdana, arial, sans-serif; font-size: 14px; fill: rgb(242, 245, 250); opacity: 1; font-weight: normal; white-space: pre;\">Kbps</text></g></g></svg>"
      ]
     },
     "metadata": {},
     "output_type": "display_data"
    }
   ],
   "source": [
    "df_plot = data\n",
    "\n",
    "fig = px.line(df_plot,\n",
    "              x=df_plot.index,\n",
    "              y=df_plot.columns,\n",
    "              template = 'plotly_dark').update_layout(\n",
    "                  xaxis_title=\"Date\",\n",
    "                  yaxis_title=\"Kbps\",\n",
    "                  showlegend = False\n",
    "              )\n",
    "fig.update_layout(width = 1000, height=350,showlegend=False)\n",
    "\n",
    "fig.show()"
   ]
  },
  {
   "cell_type": "markdown",
   "id": "df170be7",
   "metadata": {},
   "source": [
    "There are several outlier conditions where the bandwidth capacity exceeds the maximum capacity. This is because, at certain times, the internet service providers open up the maximum capacity, so that whatever bandwidth is needed will be available. This is a special condition based on client requests."
   ]
  },
  {
   "cell_type": "markdown",
   "id": "34d92358",
   "metadata": {},
   "source": [
    "#### Stationary Testing"
   ]
  },
  {
   "cell_type": "markdown",
   "id": "a03bceca",
   "metadata": {},
   "source": [
    "Stationary data is data that has statistical properties (such as mean, standard deviation) that tend to remain the same over a certain period of time. Non-stationary data, on the other hand, tends to have a varying mean, often due to the influence of seasonality and trends."
   ]
  },
  {
   "cell_type": "code",
   "execution_count": 7,
   "id": "df95c346",
   "metadata": {
    "scrolled": false
   },
   "outputs": [
    {
     "name": "stdout",
     "output_type": "stream",
     "text": [
      "\n",
      "\n",
      "Komunikasi Data Kantor Pusat BPPK\n",
      "\n",
      "\n",
      "\n",
      "\n"
     ]
    },
    {
     "data": {
      "image/png": "[encoded data removed]",
      "text/plain": [
       "<Figure size 640x480 with 1 Axes>"
      ]
     },
     "metadata": {},
     "output_type": "display_data"
    },
    {
     "name": "stdout",
     "output_type": "stream",
     "text": [
      "\n",
      "\n",
      "Balai Diklat Keuangan Balikpapan\n",
      "\n",
      "\n",
      "\n",
      "\n"
     ]
    },
    {
     "data": {
      "image/png": "[encoded data removed]",
      "text/plain": [
       "<Figure size 640x480 with 1 Axes>"
      ]
     },
     "metadata": {},
     "output_type": "display_data"
    },
    {
     "name": "stdout",
     "output_type": "stream",
     "text": [
      "\n",
      "\n",
      "Balai Diklat Keuangan Cimahi\n",
      "\n",
      "\n",
      "\n",
      "\n"
     ]
    },
    {
     "data": {
      "image/png": "[encoded data removed]",
      "text/plain": [
       "<Figure size 640x480 with 1 Axes>"
      ]
     },
     "metadata": {},
     "output_type": "display_data"
    }
   ],
   "source": [
    "for i in range(3):\n",
    "  print('\\n')\n",
    "  print(locations[i])\n",
    "  print('\\n')\n",
    "  print('\\n')\n",
    "  plot_acf(data[locations[i]], lags=20)\n",
    "  plt.title(\"Autocorrelation Function (ACF)\")\n",
    "  plt.xlabel(\"Lags\")\n",
    "  plt.ylabel(\"ACF Value\")\n",
    "  plt.show()"
   ]
  },
  {
   "cell_type": "markdown",
   "id": "2981be1c",
   "metadata": {},
   "source": [
    "Based on the ACF (AutoCorrelation Function) test results, stationary data is characterized by ACF values consistently falling within the confidence interval (light blue shaded area on the graph) and typically approaching zero. If the data is non-stationary, ACF values tend to approach -1 or 1 for each lag. From the entire time series dataset, it can be concluded that the dataset has reached a stationary state as the ACF values are still within the confidence interval."
   ]
  },
  {
   "cell_type": "markdown",
   "id": "8e8609e6",
   "metadata": {},
   "source": [
    "Another way to test the stationarity of a dataset is by using the Augmented Dickey-Fuller (ADF) test"
   ]
  },
  {
   "cell_type": "code",
   "execution_count": 8,
   "id": "27db9515",
   "metadata": {},
   "outputs": [],
   "source": [
    "def adf_check(time_series):\n",
    "    \"\"\"\n",
    "    Pass in a time series, returns ADF report\n",
    "    \"\"\"\n",
    "    result = adfuller(time_series)\n",
    "    labels = ['ADF Test Statistic','p-value','Number of Lags Used','Number of Observations Used']\n",
    "\n",
    "    return (result[1])"
   ]
  },
  {
   "cell_type": "code",
   "execution_count": 9,
   "id": "811da0ab",
   "metadata": {
    "scrolled": false
   },
   "outputs": [
    {
     "data": {
      "text/html": [
       "<div>\n",
       "<style scoped>\n",
       "    .dataframe tbody tr th:only-of-type {\n",
       "        vertical-align: middle;\n",
       "    }\n",
       "\n",
       "    .dataframe tbody tr th {\n",
       "        vertical-align: top;\n",
       "    }\n",
       "\n",
       "    .dataframe thead th {\n",
       "        text-align: right;\n",
       "    }\n",
       "</style>\n",
       "<table border=\"1\" class=\"dataframe\">\n",
       "  <thead>\n",
       "    <tr style=\"text-align: right;\">\n",
       "      <th></th>\n",
       "      <th>Timeseries</th>\n",
       "      <th>p Value</th>\n",
       "      <th>Stationary</th>\n",
       "    </tr>\n",
       "  </thead>\n",
       "  <tbody>\n",
       "    <tr>\n",
       "      <th>0</th>\n",
       "      <td>Komunikasi Data Kantor Pusat BPPK</td>\n",
       "      <td>1.637240e-03</td>\n",
       "      <td>yes</td>\n",
       "    </tr>\n",
       "    <tr>\n",
       "      <th>1</th>\n",
       "      <td>Balai Diklat Keuangan Balikpapan</td>\n",
       "      <td>2.721128e-01</td>\n",
       "      <td>no</td>\n",
       "    </tr>\n",
       "    <tr>\n",
       "      <th>2</th>\n",
       "      <td>Balai Diklat Keuangan Cimahi</td>\n",
       "      <td>1.076110e-01</td>\n",
       "      <td>no</td>\n",
       "    </tr>\n",
       "    <tr>\n",
       "      <th>3</th>\n",
       "      <td>Balai Diklat Keuangan Denpasar</td>\n",
       "      <td>1.323277e-02</td>\n",
       "      <td>yes</td>\n",
       "    </tr>\n",
       "    <tr>\n",
       "      <th>4</th>\n",
       "      <td>Balai Diklat Keuangan Makassar</td>\n",
       "      <td>3.331184e-01</td>\n",
       "      <td>no</td>\n",
       "    </tr>\n",
       "    <tr>\n",
       "      <th>5</th>\n",
       "      <td>Balai Diklat Keuangan Malang</td>\n",
       "      <td>3.259553e-01</td>\n",
       "      <td>no</td>\n",
       "    </tr>\n",
       "    <tr>\n",
       "      <th>6</th>\n",
       "      <td>Balai Diklat Keuangan Manado</td>\n",
       "      <td>6.283068e-01</td>\n",
       "      <td>no</td>\n",
       "    </tr>\n",
       "    <tr>\n",
       "      <th>7</th>\n",
       "      <td>Balai Diklat Keuangan Medan</td>\n",
       "      <td>4.206828e-01</td>\n",
       "      <td>no</td>\n",
       "    </tr>\n",
       "    <tr>\n",
       "      <th>8</th>\n",
       "      <td>Balai Diklat Keuangan Palembang</td>\n",
       "      <td>4.082886e-01</td>\n",
       "      <td>no</td>\n",
       "    </tr>\n",
       "    <tr>\n",
       "      <th>9</th>\n",
       "      <td>Balai Diklat Keuangan Pekanbaru</td>\n",
       "      <td>3.602124e-01</td>\n",
       "      <td>no</td>\n",
       "    </tr>\n",
       "    <tr>\n",
       "      <th>10</th>\n",
       "      <td>Balai Diklat Keuangan Pontianak</td>\n",
       "      <td>3.052380e-01</td>\n",
       "      <td>no</td>\n",
       "    </tr>\n",
       "    <tr>\n",
       "      <th>11</th>\n",
       "      <td>Balai Diklat Keuangan Yogyakarta</td>\n",
       "      <td>3.341405e-01</td>\n",
       "      <td>no</td>\n",
       "    </tr>\n",
       "    <tr>\n",
       "      <th>12</th>\n",
       "      <td>Komunikasi Data Kantor Pusat BPPK.1</td>\n",
       "      <td>2.197843e-02</td>\n",
       "      <td>yes</td>\n",
       "    </tr>\n",
       "    <tr>\n",
       "      <th>13</th>\n",
       "      <td>PKN STAN</td>\n",
       "      <td>8.155401e-02</td>\n",
       "      <td>no</td>\n",
       "    </tr>\n",
       "    <tr>\n",
       "      <th>14</th>\n",
       "      <td>Pusdiklat Anggaran dan Perbendaharaan</td>\n",
       "      <td>5.003646e-24</td>\n",
       "      <td>yes</td>\n",
       "    </tr>\n",
       "    <tr>\n",
       "      <th>15</th>\n",
       "      <td>Pusdiklat Bea dan Cukai</td>\n",
       "      <td>5.512261e-01</td>\n",
       "      <td>no</td>\n",
       "    </tr>\n",
       "    <tr>\n",
       "      <th>16</th>\n",
       "      <td>Pusdiklat Keuangan Umum</td>\n",
       "      <td>1.092867e-19</td>\n",
       "      <td>yes</td>\n",
       "    </tr>\n",
       "    <tr>\n",
       "      <th>17</th>\n",
       "      <td>Pusdiklat Pajak</td>\n",
       "      <td>5.869328e-01</td>\n",
       "      <td>no</td>\n",
       "    </tr>\n",
       "    <tr>\n",
       "      <th>18</th>\n",
       "      <td>Pusdiklat Pegawai Magelang</td>\n",
       "      <td>2.290552e-27</td>\n",
       "      <td>yes</td>\n",
       "    </tr>\n",
       "  </tbody>\n",
       "</table>\n",
       "</div>"
      ],
      "text/plain": [
       "                               Timeseries       p Value Stationary\n",
       "0       Komunikasi Data Kantor Pusat BPPK  1.637240e-03        yes\n",
       "1        Balai Diklat Keuangan Balikpapan  2.721128e-01         no\n",
       "2            Balai Diklat Keuangan Cimahi  1.076110e-01         no\n",
       "3          Balai Diklat Keuangan Denpasar  1.323277e-02        yes\n",
       "4          Balai Diklat Keuangan Makassar  3.331184e-01         no\n",
       "5            Balai Diklat Keuangan Malang  3.259553e-01         no\n",
       "6            Balai Diklat Keuangan Manado  6.283068e-01         no\n",
       "7             Balai Diklat Keuangan Medan  4.206828e-01         no\n",
       "8         Balai Diklat Keuangan Palembang  4.082886e-01         no\n",
       "9         Balai Diklat Keuangan Pekanbaru  3.602124e-01         no\n",
       "10        Balai Diklat Keuangan Pontianak  3.052380e-01         no\n",
       "11       Balai Diklat Keuangan Yogyakarta  3.341405e-01         no\n",
       "12    Komunikasi Data Kantor Pusat BPPK.1  2.197843e-02        yes\n",
       "13                               PKN STAN  8.155401e-02         no\n",
       "14  Pusdiklat Anggaran dan Perbendaharaan  5.003646e-24        yes\n",
       "15                Pusdiklat Bea dan Cukai  5.512261e-01         no\n",
       "16                Pusdiklat Keuangan Umum  1.092867e-19        yes\n",
       "17                        Pusdiklat Pajak  5.869328e-01         no\n",
       "18             Pusdiklat Pegawai Magelang  2.290552e-27        yes"
      ]
     },
     "execution_count": 9,
     "metadata": {},
     "output_type": "execute_result"
    }
   ],
   "source": [
    "p_value = []\n",
    "for i in range(len(locations)):\n",
    "  p_value.append(adf_check(data[locations[i]]))\n",
    "pd.DataFrame({\n",
    "    \"Timeseries\": locations,\n",
    "    \"p Value\": p_value,\n",
    "    \"Stationary\": [\"yes\" if item <= 0.05 else \"no\" for item in p_value]\n",
    "})"
   ]
  },
  {
   "cell_type": "markdown",
   "id": "a2fa57b8",
   "metadata": {},
   "source": [
    "This table shows the results of the Augmented Dickey-Fuller (ADF) test for each time series in the dataset. The \"p Value\" column indicates the p-value obtained from the ADF test. If the p-value is less than the significance level (usually 0.05), we reject the null hypothesis, suggesting that the data is stationary. If the p-value is greater than 0.05, we fail to reject the null hypothesis, indicating that the data is non-stationary. The \"Stationary\" column specifies whether the data is stationary (\"yes\") or non-stationary (\"no\") based on the p-value. Based on the ADF test results, 6 time series are stationary, and 13 time series are non-stationary."
   ]
  },
  {
   "cell_type": "markdown",
   "id": "9b595f83",
   "metadata": {},
   "source": [
    "### ARIMA Explanation"
   ]
  },
  {
   "cell_type": "markdown",
   "id": "327c2bb4",
   "metadata": {},
   "source": [
    "ARIMA (AutoRegressive Integrated Moving Average) is a popular statistical method used for forecasting time series data. It combines the concepts of autoregression (AR), differencing (I), and moving average (MA) into a single model. The AR part captures the linear relationship between an observation and a number of lagged observations (autoregression), the I part deals with making the time series stationary by differencing it, and the MA part represents the relationship between the observation and a residual error from a moving average model."
   ]
  },
  {
   "cell_type": "markdown",
   "id": "55ac9689",
   "metadata": {},
   "source": [
    "#### Fitting AR Model"
   ]
  },
  {
   "cell_type": "markdown",
   "id": "dda2e91c",
   "metadata": {},
   "source": [
    "An autoregressive model describes the relationship between a variable and its own past values. In the context of autoregression, \"auto\" refers to the fact that the variable itself is used as an input to the model."
   ]
  },
  {
   "cell_type": "code",
   "execution_count": 10,
   "id": "505b3673",
   "metadata": {},
   "outputs": [],
   "source": [
    "def AR(p,df):\n",
    "  df_temp = df\n",
    "\n",
    "  #Generating the lagged p terms\n",
    "  for i in range(1,p+1):\n",
    "    df_temp['Shifted_values_%d' % i ] = df_temp['Value'].shift(i)\n",
    "\n",
    "  train_size = (int)(0.8 * df_temp.shape[0])\n",
    "\n",
    "  #Breaking data set into test and training\n",
    "  df_train = pd.DataFrame(df_temp[0:train_size])\n",
    "  df_test = pd.DataFrame(df_temp[train_size:df.shape[0]])\n",
    "\n",
    "  df_train_2 = df_train.dropna()\n",
    "  #X contains the lagged values ,hence we skip the first column\n",
    "  X_train = df_train_2.iloc[:,1:].values.reshape(-1,p)\n",
    "  #Y contains the value,it is the first column\n",
    "  y_train = df_train_2.iloc[:,0].values.reshape(-1,1)\n",
    "\n",
    "  #Running linear regression to generate the coefficents of lagged terms\n",
    "  from sklearn.linear_model import LinearRegression\n",
    "  lr = LinearRegression()\n",
    "  lr.fit(X_train,y_train)\n",
    "\n",
    "  theta  = lr.coef_.T\n",
    "  intercept = lr.intercept_\n",
    "  df_train_2['Predicted_Values'] = X_train.dot(lr.coef_.T) + lr.intercept_\n",
    "  # df_train_2[['Value','Predicted_Values']].plot()\n",
    "\n",
    "  X_test = df_test.iloc[:,1:].values.reshape(-1,p)\n",
    "  df_test['Predicted_Values'] = X_test.dot(lr.coef_.T) + lr.intercept_\n",
    "  # df_test[['Value','Predicted_Values']].plot()\n",
    "\n",
    "  RMSE = np.sqrt(mean_squared_error(df_test['Value'], df_test['Predicted_Values']))\n",
    "\n",
    "  print(\"The RMSE is :\", RMSE,\", Value of p : \",p)\n",
    "  return df_train_2,df_test,theta,intercept,RMSE"
   ]
  },
  {
   "cell_type": "markdown",
   "id": "c7282ef7",
   "metadata": {},
   "source": [
    "#### Fitting MA Model"
   ]
  },
  {
   "cell_type": "markdown",
   "id": "559f42e6",
   "metadata": {},
   "source": [
    "This model focuses on the relationship between a variable and its past values of an error term or the \"moving average\" of that variable."
   ]
  },
  {
   "cell_type": "code",
   "execution_count": 11,
   "id": "b8de9c73",
   "metadata": {},
   "outputs": [],
   "source": [
    "def MA(q,res):\n",
    "\n",
    "  for i in range(1,q+1):\n",
    "    res['Shifted_values_%d' % i ] = res['Residuals'].shift(i)\n",
    "\n",
    "  train_size = (int)(0.8 * res.shape[0])\n",
    "\n",
    "  res_train = pd.DataFrame(res[0:train_size])\n",
    "  res_test = pd.DataFrame(res[train_size:res.shape[0]])\n",
    "\n",
    "  res_train_2 = res_train.dropna()\n",
    "  X_train = res_train_2.iloc[:,1:].values.reshape(-1,q)\n",
    "  y_train = res_train_2.iloc[:,0].values.reshape(-1,1)\n",
    "\n",
    "  from sklearn.linear_model import LinearRegression\n",
    "  lr = LinearRegression()\n",
    "  lr.fit(X_train,y_train)\n",
    "\n",
    "  theta  = lr.coef_.T\n",
    "  intercept = lr.intercept_\n",
    "  res_train_2['Predicted_Values'] = X_train.dot(lr.coef_.T) + lr.intercept_\n",
    "  # res_train_2[['Residuals','Predicted_Values']].plot()\n",
    "\n",
    "  X_test = res_test.iloc[:,1:].values.reshape(-1,q)\n",
    "  res_test['Predicted_Values'] = X_test.dot(lr.coef_.T) + lr.intercept_\n",
    "  # res_test[['Residuals','Predicted_Values']].plot()\n",
    "\n",
    "  from sklearn.metrics import mean_squared_error\n",
    "  RMSE = np.sqrt(mean_squared_error(res_test['Residuals'], res_test['Predicted_Values']))\n",
    "\n",
    "  print(\"The RMSE is :\", RMSE,\", Value of q : \",q)\n",
    "  return res_train_2,res_test,theta,intercept,RMSE"
   ]
  },
  {
   "cell_type": "markdown",
   "id": "790ecf7a",
   "metadata": {},
   "source": [
    "### Training Stationary Dataset"
   ]
  },
  {
   "cell_type": "markdown",
   "id": "7e43b3d0",
   "metadata": {},
   "source": [
    "Based on the results of the ACF and ADF tests, the data for communication at the central office of BPPK is stationary. The next step is to perform ARIMA modeling."
   ]
  },
  {
   "cell_type": "markdown",
   "id": "1b0c48c5",
   "metadata": {},
   "source": [
    "#### AR Modelling"
   ]
  },
  {
   "cell_type": "code",
   "execution_count": 12,
   "id": "18c81867",
   "metadata": {
    "scrolled": false
   },
   "outputs": [
    {
     "name": "stdout",
     "output_type": "stream",
     "text": [
      "The RMSE is : 7684.094889854563 , Value of p :  1\n",
      "The RMSE is : 7418.4623003140905 , Value of p :  2\n",
      "The RMSE is : 7393.469476396996 , Value of p :  3\n",
      "The RMSE is : 7079.877955713409 , Value of p :  4\n",
      "The RMSE is : 7050.927085600831 , Value of p :  5\n",
      "The RMSE is : 7166.618535604835 , Value of p :  6\n",
      "The RMSE is : 5825.888227750858 , Value of p :  7\n",
      "The RMSE is : 5918.907237066846 , Value of p :  8\n",
      "The RMSE is : 5698.522632438761 , Value of p :  9\n",
      "The RMSE is : 5709.878835764816 , Value of p :  10\n",
      "The RMSE is : 5649.725020160959 , Value of p :  11\n",
      "The RMSE is : 5711.330292398732 , Value of p :  12\n",
      "The RMSE is : 5621.999687629499 , Value of p :  13\n",
      "The RMSE is : 5683.299465617974 , Value of p :  14\n",
      "The RMSE is : 5643.377114613016 , Value of p :  15\n",
      "The RMSE is : 5611.21725144524 , Value of p :  16\n",
      "The RMSE is : 5712.281056446009 , Value of p :  17\n",
      "The RMSE is : 5633.084384782259 , Value of p :  18\n",
      "The RMSE is : 5811.571019955087 , Value of p :  19\n",
      "The RMSE is : 5710.761926665537 , Value of p :  20\n"
     ]
    }
   ],
   "source": [
    "RMSE_AR = []\n",
    "\n",
    "df = pd.DataFrame(data['Komunikasi Data Kantor Pusat BPPK'])\n",
    "df.columns = ['Value']\n",
    "\n",
    "for p in range(1,21):\n",
    "  df_train_2,df_test,theta,intercept,RMSE = AR(p, df)\n",
    "  RMSE_AR.append(RMSE)"
   ]
  },
  {
   "cell_type": "markdown",
   "id": "afc2d721",
   "metadata": {},
   "source": [
    "From the data, it can be seen that the smallest RMSE value with an AR model is achieved when using p=16, with an RMSE value of 5611.2"
   ]
  },
  {
   "cell_type": "code",
   "execution_count": 13,
   "id": "f4b416be",
   "metadata": {},
   "outputs": [
    {
     "name": "stdout",
     "output_type": "stream",
     "text": [
      "The RMSE is : 5611.21725144524 , Value of p :  16\n"
     ]
    }
   ],
   "source": [
    "df_train_2,df_test,theta,intercept,RMSE = AR(16, pd.DataFrame(df['Value']))"
   ]
  },
  {
   "cell_type": "markdown",
   "id": "b5bcecae",
   "metadata": {},
   "source": [
    "#### MA Modelling"
   ]
  },
  {
   "cell_type": "markdown",
   "id": "f5f55050",
   "metadata": {},
   "source": [
    "In this case, since MA uses errors or the level of mistakes, we first find the residual, which is the difference between the actual value and the predicted value."
   ]
  },
  {
   "cell_type": "code",
   "execution_count": 14,
   "id": "2fe828a5",
   "metadata": {},
   "outputs": [],
   "source": [
    "df_c = pd.concat([df_train_2,df_test])\n",
    "res = pd.DataFrame()\n",
    "res['Residuals'] = df_c.Value - df_c.Predicted_Values"
   ]
  },
  {
   "cell_type": "code",
   "execution_count": 15,
   "id": "ac87eadd",
   "metadata": {},
   "outputs": [
    {
     "data": {
      "text/html": [
       "<div>\n",
       "<style scoped>\n",
       "    .dataframe tbody tr th:only-of-type {\n",
       "        vertical-align: middle;\n",
       "    }\n",
       "\n",
       "    .dataframe tbody tr th {\n",
       "        vertical-align: top;\n",
       "    }\n",
       "\n",
       "    .dataframe thead th {\n",
       "        text-align: right;\n",
       "    }\n",
       "</style>\n",
       "<table border=\"1\" class=\"dataframe\">\n",
       "  <thead>\n",
       "    <tr style=\"text-align: right;\">\n",
       "      <th></th>\n",
       "      <th>Value</th>\n",
       "      <th>Predicted_Values</th>\n",
       "    </tr>\n",
       "    <tr>\n",
       "      <th>Date</th>\n",
       "      <th></th>\n",
       "      <th></th>\n",
       "    </tr>\n",
       "  </thead>\n",
       "  <tbody>\n",
       "    <tr>\n",
       "      <th>2023-05-17</th>\n",
       "      <td>9130.72</td>\n",
       "      <td>12028.339767</td>\n",
       "    </tr>\n",
       "    <tr>\n",
       "      <th>2023-05-18</th>\n",
       "      <td>1455.43</td>\n",
       "      <td>7077.753854</td>\n",
       "    </tr>\n",
       "    <tr>\n",
       "      <th>2023-05-19</th>\n",
       "      <td>6934.23</td>\n",
       "      <td>5869.977156</td>\n",
       "    </tr>\n",
       "    <tr>\n",
       "      <th>2023-05-20</th>\n",
       "      <td>3186.71</td>\n",
       "      <td>3201.128060</td>\n",
       "    </tr>\n",
       "    <tr>\n",
       "      <th>2023-05-21</th>\n",
       "      <td>2604.81</td>\n",
       "      <td>3256.984610</td>\n",
       "    </tr>\n",
       "    <tr>\n",
       "      <th>...</th>\n",
       "      <td>...</td>\n",
       "      <td>...</td>\n",
       "    </tr>\n",
       "    <tr>\n",
       "      <th>2023-11-26</th>\n",
       "      <td>244.84</td>\n",
       "      <td>-1851.026085</td>\n",
       "    </tr>\n",
       "    <tr>\n",
       "      <th>2023-11-27</th>\n",
       "      <td>15699.55</td>\n",
       "      <td>8424.109053</td>\n",
       "    </tr>\n",
       "    <tr>\n",
       "      <th>2023-11-28</th>\n",
       "      <td>8520.41</td>\n",
       "      <td>16371.384646</td>\n",
       "    </tr>\n",
       "    <tr>\n",
       "      <th>2023-11-29</th>\n",
       "      <td>12329.67</td>\n",
       "      <td>9818.934172</td>\n",
       "    </tr>\n",
       "    <tr>\n",
       "      <th>2023-11-30</th>\n",
       "      <td>19596.59</td>\n",
       "      <td>15152.667798</td>\n",
       "    </tr>\n",
       "  </tbody>\n",
       "</table>\n",
       "<p>198 rows × 2 columns</p>\n",
       "</div>"
      ],
      "text/plain": [
       "               Value  Predicted_Values\n",
       "Date                                  \n",
       "2023-05-17   9130.72      12028.339767\n",
       "2023-05-18   1455.43       7077.753854\n",
       "2023-05-19   6934.23       5869.977156\n",
       "2023-05-20   3186.71       3201.128060\n",
       "2023-05-21   2604.81       3256.984610\n",
       "...              ...               ...\n",
       "2023-11-26    244.84      -1851.026085\n",
       "2023-11-27  15699.55       8424.109053\n",
       "2023-11-28   8520.41      16371.384646\n",
       "2023-11-29  12329.67       9818.934172\n",
       "2023-11-30  19596.59      15152.667798\n",
       "\n",
       "[198 rows x 2 columns]"
      ]
     },
     "execution_count": 15,
     "metadata": {},
     "output_type": "execute_result"
    }
   ],
   "source": [
    "df_c[['Value', 'Predicted_Values']]"
   ]
  },
  {
   "cell_type": "code",
   "execution_count": 16,
   "id": "3b26d0fa",
   "metadata": {},
   "outputs": [
    {
     "data": {
      "text/html": [
       "<div>\n",
       "<style scoped>\n",
       "    .dataframe tbody tr th:only-of-type {\n",
       "        vertical-align: middle;\n",
       "    }\n",
       "\n",
       "    .dataframe tbody tr th {\n",
       "        vertical-align: top;\n",
       "    }\n",
       "\n",
       "    .dataframe thead th {\n",
       "        text-align: right;\n",
       "    }\n",
       "</style>\n",
       "<table border=\"1\" class=\"dataframe\">\n",
       "  <thead>\n",
       "    <tr style=\"text-align: right;\">\n",
       "      <th></th>\n",
       "      <th>Residuals</th>\n",
       "    </tr>\n",
       "    <tr>\n",
       "      <th>Date</th>\n",
       "      <th></th>\n",
       "    </tr>\n",
       "  </thead>\n",
       "  <tbody>\n",
       "    <tr>\n",
       "      <th>2023-05-17</th>\n",
       "      <td>-2897.619767</td>\n",
       "    </tr>\n",
       "    <tr>\n",
       "      <th>2023-05-18</th>\n",
       "      <td>-5622.323854</td>\n",
       "    </tr>\n",
       "    <tr>\n",
       "      <th>2023-05-19</th>\n",
       "      <td>1064.252844</td>\n",
       "    </tr>\n",
       "    <tr>\n",
       "      <th>2023-05-20</th>\n",
       "      <td>-14.418060</td>\n",
       "    </tr>\n",
       "    <tr>\n",
       "      <th>2023-05-21</th>\n",
       "      <td>-652.174610</td>\n",
       "    </tr>\n",
       "    <tr>\n",
       "      <th>...</th>\n",
       "      <td>...</td>\n",
       "    </tr>\n",
       "    <tr>\n",
       "      <th>2023-11-26</th>\n",
       "      <td>2095.866085</td>\n",
       "    </tr>\n",
       "    <tr>\n",
       "      <th>2023-11-27</th>\n",
       "      <td>7275.440947</td>\n",
       "    </tr>\n",
       "    <tr>\n",
       "      <th>2023-11-28</th>\n",
       "      <td>-7850.974646</td>\n",
       "    </tr>\n",
       "    <tr>\n",
       "      <th>2023-11-29</th>\n",
       "      <td>2510.735828</td>\n",
       "    </tr>\n",
       "    <tr>\n",
       "      <th>2023-11-30</th>\n",
       "      <td>4443.922202</td>\n",
       "    </tr>\n",
       "  </tbody>\n",
       "</table>\n",
       "<p>198 rows × 1 columns</p>\n",
       "</div>"
      ],
      "text/plain": [
       "              Residuals\n",
       "Date                   \n",
       "2023-05-17 -2897.619767\n",
       "2023-05-18 -5622.323854\n",
       "2023-05-19  1064.252844\n",
       "2023-05-20   -14.418060\n",
       "2023-05-21  -652.174610\n",
       "...                 ...\n",
       "2023-11-26  2095.866085\n",
       "2023-11-27  7275.440947\n",
       "2023-11-28 -7850.974646\n",
       "2023-11-29  2510.735828\n",
       "2023-11-30  4443.922202\n",
       "\n",
       "[198 rows x 1 columns]"
      ]
     },
     "execution_count": 16,
     "metadata": {},
     "output_type": "execute_result"
    }
   ],
   "source": [
    "res"
   ]
  },
  {
   "cell_type": "code",
   "execution_count": 17,
   "id": "27bf9180",
   "metadata": {},
   "outputs": [
    {
     "name": "stdout",
     "output_type": "stream",
     "text": [
      "The RMSE is : 5632.895292714048 , Value of q :  1\n",
      "The RMSE is : 5620.122090829805 , Value of q :  2\n",
      "The RMSE is : 5622.026855851942 , Value of q :  3\n",
      "The RMSE is : 5625.9465796920485 , Value of q :  4\n",
      "The RMSE is : 5671.3279712024805 , Value of q :  5\n",
      "The RMSE is : 5571.0121586192745 , Value of q :  6\n",
      "The RMSE is : 5574.815923461157 , Value of q :  7\n",
      "The RMSE is : 5567.206121357767 , Value of q :  8\n",
      "The RMSE is : 5542.455161441066 , Value of q :  9\n",
      "The RMSE is : 5565.439211338393 , Value of q :  10\n",
      "The RMSE is : 5622.738770689103 , Value of q :  11\n",
      "The RMSE is : 5594.432474766322 , Value of q :  12\n",
      "The RMSE is : 5731.273263956635 , Value of q :  13\n",
      "The RMSE is : 5608.542884934939 , Value of q :  14\n",
      "The RMSE is : 5612.394213337543 , Value of q :  15\n",
      "The RMSE is : 5466.650706541168 , Value of q :  16\n",
      "The RMSE is : 5432.870292495242 , Value of q :  17\n",
      "The RMSE is : 5506.373197505982 , Value of q :  18\n",
      "The RMSE is : 5611.98142709882 , Value of q :  19\n",
      "The RMSE is : 5670.601458221933 , Value of q :  20\n"
     ]
    }
   ],
   "source": [
    "RMSE_MA = []\n",
    "\n",
    "for q in range(1,21):\n",
    "  res_train_2,res_test,theta,intercept,RMSE = MA(q, res)\n",
    "  RMSE_MA.append(RMSE)"
   ]
  },
  {
   "cell_type": "markdown",
   "id": "32e3499e",
   "metadata": {},
   "source": [
    "From the modeling results, it can be seen that using q=17 in the MA model yields the lowest RMSE value, which is 5432.8"
   ]
  },
  {
   "cell_type": "code",
   "execution_count": 18,
   "id": "7bd9b2c1",
   "metadata": {},
   "outputs": [
    {
     "name": "stdout",
     "output_type": "stream",
     "text": [
      "The RMSE is : 5432.870292495242 , Value of q :  17\n"
     ]
    }
   ],
   "source": [
    "df_c = pd.concat([df_train_2,df_test])\n",
    "res = pd.DataFrame()\n",
    "res['Residuals'] = df_c.Value - df_c.Predicted_Values\n",
    "\n",
    "res_train_2,res_test,theta,intercept,RMSE = MA(17, res)"
   ]
  },
  {
   "cell_type": "code",
   "execution_count": 19,
   "id": "fdca0a19",
   "metadata": {},
   "outputs": [],
   "source": [
    "res_c = pd.concat([res_train_2,res_test])"
   ]
  },
  {
   "cell_type": "code",
   "execution_count": 20,
   "id": "41ddd1e5",
   "metadata": {},
   "outputs": [
    {
     "data": {
      "text/html": [
       "<div>\n",
       "<style scoped>\n",
       "    .dataframe tbody tr th:only-of-type {\n",
       "        vertical-align: middle;\n",
       "    }\n",
       "\n",
       "    .dataframe tbody tr th {\n",
       "        vertical-align: top;\n",
       "    }\n",
       "\n",
       "    .dataframe thead th {\n",
       "        text-align: right;\n",
       "    }\n",
       "</style>\n",
       "<table border=\"1\" class=\"dataframe\">\n",
       "  <thead>\n",
       "    <tr style=\"text-align: right;\">\n",
       "      <th></th>\n",
       "      <th>Residuals</th>\n",
       "      <th>Predicted_Values</th>\n",
       "    </tr>\n",
       "    <tr>\n",
       "      <th>Date</th>\n",
       "      <th></th>\n",
       "      <th></th>\n",
       "    </tr>\n",
       "  </thead>\n",
       "  <tbody>\n",
       "    <tr>\n",
       "      <th>2023-06-03</th>\n",
       "      <td>-1597.668999</td>\n",
       "      <td>-1091.560248</td>\n",
       "    </tr>\n",
       "    <tr>\n",
       "      <th>2023-06-04</th>\n",
       "      <td>-6234.066435</td>\n",
       "      <td>492.863488</td>\n",
       "    </tr>\n",
       "    <tr>\n",
       "      <th>2023-06-05</th>\n",
       "      <td>10845.314698</td>\n",
       "      <td>869.592997</td>\n",
       "    </tr>\n",
       "    <tr>\n",
       "      <th>2023-06-06</th>\n",
       "      <td>8951.097518</td>\n",
       "      <td>1514.630458</td>\n",
       "    </tr>\n",
       "    <tr>\n",
       "      <th>2023-06-07</th>\n",
       "      <td>62.546344</td>\n",
       "      <td>-562.961630</td>\n",
       "    </tr>\n",
       "    <tr>\n",
       "      <th>...</th>\n",
       "      <td>...</td>\n",
       "      <td>...</td>\n",
       "    </tr>\n",
       "    <tr>\n",
       "      <th>2023-11-26</th>\n",
       "      <td>2095.866085</td>\n",
       "      <td>2195.603213</td>\n",
       "    </tr>\n",
       "    <tr>\n",
       "      <th>2023-11-27</th>\n",
       "      <td>7275.440947</td>\n",
       "      <td>-749.498050</td>\n",
       "    </tr>\n",
       "    <tr>\n",
       "      <th>2023-11-28</th>\n",
       "      <td>-7850.974646</td>\n",
       "      <td>-812.230764</td>\n",
       "    </tr>\n",
       "    <tr>\n",
       "      <th>2023-11-29</th>\n",
       "      <td>2510.735828</td>\n",
       "      <td>-240.823486</td>\n",
       "    </tr>\n",
       "    <tr>\n",
       "      <th>2023-11-30</th>\n",
       "      <td>4443.922202</td>\n",
       "      <td>2224.901707</td>\n",
       "    </tr>\n",
       "  </tbody>\n",
       "</table>\n",
       "<p>181 rows × 2 columns</p>\n",
       "</div>"
      ],
      "text/plain": [
       "               Residuals  Predicted_Values\n",
       "Date                                      \n",
       "2023-06-03  -1597.668999      -1091.560248\n",
       "2023-06-04  -6234.066435        492.863488\n",
       "2023-06-05  10845.314698        869.592997\n",
       "2023-06-06   8951.097518       1514.630458\n",
       "2023-06-07     62.546344       -562.961630\n",
       "...                  ...               ...\n",
       "2023-11-26   2095.866085       2195.603213\n",
       "2023-11-27   7275.440947       -749.498050\n",
       "2023-11-28  -7850.974646       -812.230764\n",
       "2023-11-29   2510.735828       -240.823486\n",
       "2023-11-30   4443.922202       2224.901707\n",
       "\n",
       "[181 rows x 2 columns]"
      ]
     },
     "execution_count": 20,
     "metadata": {},
     "output_type": "execute_result"
    }
   ],
   "source": [
    "res_c[['Residuals', 'Predicted_Values']]"
   ]
  },
  {
   "cell_type": "code",
   "execution_count": 21,
   "id": "1423a16e",
   "metadata": {},
   "outputs": [],
   "source": [
    "df_c.Predicted_Values += res_c.Predicted_Values"
   ]
  },
  {
   "cell_type": "code",
   "execution_count": 22,
   "id": "809e72aa",
   "metadata": {},
   "outputs": [
    {
     "data": {
      "image/svg+xml": [
       "<svg class=\"main-svg\" xmlns=\"http://www.w3.org/2000/svg\" xmlns:xlink=\"http://www.w3.org/1999/xlink\" width=\"1000\" height=\"350\" style=\"\" viewBox=\"0 0 1000 350\"><rect x=\"0\" y=\"0\" width=\"1000\" height=\"350\" style=\"fill: rgb(17, 17, 17); fill-opacity: 1;\"/><defs id=\"defs-0e9e2e\"><g class=\"clips\"><clipPath id=\"clip0e9e2exyplot\" class=\"plotclip\"><rect width=\"840\" height=\"210\"/></clipPath><clipPath class=\"axesclip\" id=\"clip0e9e2ex\"><rect x=\"80\" y=\"0\" width=\"840\" height=\"350\"/></clipPath><clipPath class=\"axesclip\" id=\"clip0e9e2ey\"><rect x=\"0\" y=\"60\" width=\"1000\" height=\"210\"/></clipPath><clipPath class=\"axesclip\" id=\"clip0e9e2exy\"><rect x=\"80\" y=\"60\" width=\"840\" height=\"210\"/></clipPath></g><g class=\"gradients\"/><g class=\"patterns\"/></defs><g class=\"bglayer\"/><g class=\"layer-below\"><g class=\"imagelayer\"/><g class=\"shapelayer\"/></g><g class=\"cartesianlayer\"><g class=\"subplot xy\"><g class=\"layer-subplot\"><g class=\"shapelayer\"/><g class=\"imagelayer\"/></g><g class=\"minor-gridlayer\"><g class=\"x\"/><g class=\"y\"/></g><g class=\"gridlayer\"><g class=\"x\"><path class=\"xgrid crisp\" transform=\"translate(143.96,0)\" d=\"M0,60v210\" style=\"stroke: rgb(40, 52, 66); stroke-opacity: 1; stroke-width: 1px;\"/><path class=\"xgrid crisp\" transform=\"translate(271.88,0)\" d=\"M0,60v210\" style=\"stroke: rgb(40, 52, 66); stroke-opacity: 1; stroke-width: 1px;\"/><path class=\"xgrid crisp\" transform=\"translate(404.06,0)\" d=\"M0,60v210\" style=\"stroke: rgb(40, 52, 66); stroke-opacity: 1; stroke-width: 1px;\"/><path class=\"xgrid crisp\" transform=\"translate(536.24,0)\" d=\"M0,60v210\" style=\"stroke: rgb(40, 52, 66); stroke-opacity: 1; stroke-width: 1px;\"/><path class=\"xgrid crisp\" transform=\"translate(664.16,0)\" d=\"M0,60v210\" style=\"stroke: rgb(40, 52, 66); stroke-opacity: 1; stroke-width: 1px;\"/><path class=\"xgrid crisp\" transform=\"translate(796.35,0)\" d=\"M0,60v210\" style=\"stroke: rgb(40, 52, 66); stroke-opacity: 1; stroke-width: 1px;\"/></g><g class=\"y\"><path class=\"ygrid crisp\" transform=\"translate(0,179.49)\" d=\"M80,0h840\" style=\"stroke: rgb(40, 52, 66); stroke-opacity: 1; stroke-width: 1px;\"/><path class=\"ygrid crisp\" transform=\"translate(0,112.74000000000001)\" d=\"M80,0h840\" style=\"stroke: rgb(40, 52, 66); stroke-opacity: 1; stroke-width: 1px;\"/></g></g><g class=\"zerolinelayer\"><path class=\"yzl zl crisp\" transform=\"translate(0,246.23)\" d=\"M80,0h840\" style=\"stroke: rgb(40, 52, 66); stroke-opacity: 1; stroke-width: 2px;\"/></g><path class=\"xlines-below\"/><path class=\"ylines-below\"/><g class=\"overlines-below\"/><g class=\"xaxislayer-below\"/><g class=\"yaxislayer-below\"/><g class=\"overaxes-below\"/><g class=\"plot\" transform=\"translate(80,60)\" clip-path=\"url(#clip0e9e2exyplot)\"><g class=\"scatterlayer mlayer\"><g class=\"trace scatter tracef00634\" style=\"stroke-miterlimit: 2; opacity: 1;\"><g class=\"fills\"/><g class=\"errorbars\"/><g class=\"lines\"><path class=\"js-line\" d=\"M0,125.29L4.26,176.52L8.53,139.95L12.79,164.96L17.06,168.85L21.32,121.56L25.58,136.79L29.85,117.67L34.11,138.04L42.64,168.74L46.9,176.23L51.17,91.86L55.43,119.34L59.7,103.37L63.96,170.37L68.22,169.26L72.49,174.51L76.75,184.87L81.02,49.73L85.28,18.87L89.54,89.13L93.81,94.05L98.07,129.64L102.34,148.02L106.6,153.15L110.86,78L115.13,22.22L119.39,102.87L123.65,117.83L127.92,111.57L132.18,177.72L136.45,178.97L140.71,117.74L144.97,59.94L149.24,81.45L153.5,95.89L157.77,124.65L162.03,172.34L166.29,152.68L170.56,114.53L174.82,117.26L179.09,150.56L183.35,153.32L187.61,150.38L191.88,148.52L196.14,148.06L200.41,125.9L204.67,121.44L208.93,102.67L213.2,66.43L217.46,113.23L221.73,156.55L225.99,151.29L230.25,48.69L234.52,24.18L243.05,63.05L247.31,66.34L251.57,148.47L255.84,149.24L260.1,19.71L264.37,24.8L268.63,186.23L272.89,119.24L277.16,126.74L281.42,167.98L285.69,179.87L289.95,74.28L294.21,104.28L298.48,103.91L302.74,135.62L307.01,59.69L311.27,151.91L315.53,174.76L319.8,75.79L324.06,103.72L328.32,106.44L332.59,129.33L336.85,148.09L341.12,153.01L345.38,169.44L349.64,66.36L353.91,70.85L358.17,112.58L362.44,138.97L366.7,125.46L370.96,183.16L375.23,183.2L379.49,93.43L383.76,137.83L388.02,95.58L392.28,183.22L396.55,155.42L400.81,183.02L405.08,183.24L409.34,92.7L413.6,85.84L417.87,57.46L422.13,19.49L426.4,115.75L430.66,148.93L434.92,148.59L439.19,104.46L443.45,101.02L447.72,106.57L451.98,124.17L456.24,76.78L460.51,165.41L464.77,149.47L469.04,138.97L473.3,138.22L477.56,159.98L481.83,100.52L486.09,157.57L490.36,185.78L494.62,185.75L498.88,104.36L503.15,135.23L507.41,129.04L511.68,97.24L515.94,154.67L520.2,185.74L524.47,185.65L528.73,128.53L532.99,109.41L537.26,71.55L541.52,117.8L545.79,104.85L550.05,184.26L554.31,185.56L558.58,63.11L562.84,89.97L567.11,113.45L571.37,185.6L575.63,143.79L579.9,185.95L584.16,185.63L588.43,120.73L592.69,10.5L596.95,138.26L601.22,137.72L605.48,148.95L609.75,185.67L614.01,185.91L618.27,93.15L622.54,107.57L626.8,94.39L631.07,38.54L635.33,120.7L639.59,186.07L643.86,185.84L648.12,96.72L652.39,96.22L656.65,119.74L665.18,62.91L669.44,184.01L673.71,185.24L677.97,112.68L682.23,73.29L686.5,121.45L690.76,124.21L695.03,102.61L699.29,185.43L703.55,185.61L707.82,105.33L712.08,114.36L716.35,63.96L720.61,78.91L729.14,185.62L733.4,185.24L737.66,43.86L741.93,84.51L746.19,69.18L750.46,41.91L754.72,47.95L758.98,180.41L763.25,184.57L767.51,142.78L771.78,79.56L776.04,91.59L780.3,124.94L784.57,11.67L788.83,184.68L793.1,185.23L797.36,100.2L801.62,105.08L805.89,30.92L810.15,76.68L814.42,87.45L818.68,184.75L822.94,184.6L827.21,81.45L831.47,129.36L835.74,103.94L840,55.44\" style=\"vector-effect: non-scaling-stroke; fill: none; stroke: rgb(99, 110, 250); stroke-opacity: 1; stroke-width: 2px; opacity: 1;\"/></g><g class=\"points\"/><g class=\"text\"/></g><g class=\"trace scatter traceff1052\" style=\"stroke-miterlimit: 2; opacity: 1;\"><g class=\"fills\"/><g class=\"errorbars\"/><g class=\"lines\"><path class=\"js-line\" d=\"M72.49,171.13L76.75,139.97L81.02,116.31L85.28,68.51L89.54,93.3L93.81,126.67L98.07,119.45L102.34,152.9L106.6,147.85L115.13,58.52L119.39,81.47L123.65,127.68L127.92,114.94L132.18,160.31L136.45,174.21L140.71,115.07L144.97,93.23L149.24,99.51L153.5,116.97L157.77,118.33L162.03,155.01L166.29,177.91L170.56,106.85L174.82,83.31L179.09,107.98L183.35,119.37L187.61,140.57L191.88,164.42L196.14,147.19L200.41,109.47L204.67,111.42L208.93,131.61L213.2,115.12L217.46,105.17L221.73,135.75L225.99,141.5L230.25,118.44L234.52,82.46L238.78,74.68L243.05,77.55L247.31,108.78L251.57,150.7L255.84,149.92L260.1,101.81L264.37,64.3L268.63,95.94L272.89,135.55L277.16,112.97L281.42,162.87L285.69,175.9L289.95,105.13L294.21,90.58L298.48,150.84L302.74,123.43L307.01,104.03L311.27,152.15L315.53,158.98L319.8,102.33L324.06,80.64L328.32,119.52L332.59,94.18L336.85,120.02L341.12,162.65L345.38,156.74L349.64,110.24L353.91,82.66L358.17,125.13L362.44,121.82L366.7,122.6L370.96,164.04L375.23,143.94L379.49,108.44L383.76,85.84L388.02,132.88L392.28,113.77L396.55,130.06L400.81,170.94L405.08,167.26L409.34,121.66L413.6,87.81L417.87,112.95L422.13,97.4L426.4,100.41L430.66,149.54L434.92,135.4L443.45,90.41L447.72,88.33L451.98,92.54L456.24,119.22L460.51,163.47L464.77,152.63L469.04,121.16L473.3,128.51L477.56,132.88L481.83,126.68L486.09,107.57L490.36,142.38L494.62,166.92L498.88,129.45L503.15,112.03L507.41,122.07L511.68,102.66L515.94,114.78L520.2,177.48L524.47,141.84L528.73,117.24L532.99,118.2L537.26,111.23L541.52,78.68L545.79,118.88L550.05,150.25L554.31,157.69L558.58,137.3L562.84,91.51L567.11,92.32L571.37,98.08L575.63,139.41L579.9,158.46L584.16,165.42L588.43,120.44L592.69,90.16L596.95,104.57L601.22,132.07L605.48,122.49L609.75,159.5L614.01,175.3L618.27,116.94L622.54,62.31L626.8,97.66L631.07,124.86L635.33,93.92L639.59,164.67L643.86,170.62L648.12,113.11L652.39,98.73L656.65,109.49L660.91,76.49L665.18,110.41L669.44,167.24L673.71,164.92L677.97,108.83L682.23,105.83L686.5,118.97L690.76,107.4L695.03,100.57L703.55,188.69L707.82,118.49L712.08,87.57L716.35,123.79L720.61,91.75L724.87,102.98L729.14,163.38L733.4,165.57L737.66,129.68L741.93,83.7L746.19,96.92L750.46,62.7L754.72,101.45L758.98,164.67L763.25,156.18L767.51,115.84L771.78,111.68L776.04,113.81L780.3,75.09L784.57,94.6L788.83,142.03L793.1,199.5L797.36,138.52L801.62,96.1L805.89,116.44L810.15,75.3L814.42,87.36L818.68,135.79L822.94,183.93L827.21,135.01L831.47,82.38L835.74,122.3L840,70.25\" style=\"vector-effect: non-scaling-stroke; fill: none; stroke: rgb(239, 85, 59); stroke-opacity: 1; stroke-width: 2px; opacity: 1;\"/></g><g class=\"points\"/><g class=\"text\"/></g></g></g><g class=\"overplot\"/><path class=\"xlines-above crisp\" d=\"M0,0\" style=\"fill: none;\"/><path class=\"ylines-above crisp\" d=\"M0,0\" style=\"fill: none;\"/><g class=\"overlines-above\"/><g class=\"xaxislayer-above\"><g class=\"xtick\"><text text-anchor=\"middle\" x=\"0\" y=\"283\" transform=\"translate(143.96,0)\" style=\"font-family: 'Open Sans', verdana, arial, sans-serif; font-size: 12px; fill: rgb(242, 245, 250); fill-opacity: 1; white-space: pre; opacity: 1;\">Jun 2023</text></g><g class=\"xtick\"><text text-anchor=\"middle\" x=\"0\" y=\"283\" style=\"font-family: 'Open Sans', verdana, arial, sans-serif; font-size: 12px; fill: rgb(242, 245, 250); fill-opacity: 1; white-space: pre; opacity: 1;\" transform=\"translate(271.88,0)\">Jul 2023</text></g><g class=\"xtick\"><text text-anchor=\"middle\" x=\"0\" y=\"283\" style=\"font-family: 'Open Sans', verdana, arial, sans-serif; font-size: 12px; fill: rgb(242, 245, 250); fill-opacity: 1; white-space: pre; opacity: 1;\" transform=\"translate(404.06,0)\">Aug 2023</text></g><g class=\"xtick\"><text text-anchor=\"middle\" x=\"0\" y=\"283\" style=\"font-family: 'Open Sans', verdana, arial, sans-serif; font-size: 12px; fill: rgb(242, 245, 250); fill-opacity: 1; white-space: pre; opacity: 1;\" transform=\"translate(536.24,0)\">Sep 2023</text></g><g class=\"xtick\"><text text-anchor=\"middle\" x=\"0\" y=\"283\" style=\"font-family: 'Open Sans', verdana, arial, sans-serif; font-size: 12px; fill: rgb(242, 245, 250); fill-opacity: 1; white-space: pre; opacity: 1;\" transform=\"translate(664.16,0)\">Oct 2023</text></g><g class=\"xtick\"><text text-anchor=\"middle\" x=\"0\" y=\"283\" style=\"font-family: 'Open Sans', verdana, arial, sans-serif; font-size: 12px; fill: rgb(242, 245, 250); fill-opacity: 1; white-space: pre; opacity: 1;\" transform=\"translate(796.35,0)\">Nov 2023</text></g></g><g class=\"yaxislayer-above\"><g class=\"ytick\"><text text-anchor=\"end\" x=\"79\" y=\"4.199999999999999\" transform=\"translate(0,246.23)\" style=\"font-family: 'Open Sans', verdana, arial, sans-serif; font-size: 12px; fill: rgb(242, 245, 250); fill-opacity: 1; white-space: pre; opacity: 1;\">0</text></g><g class=\"ytick\"><text text-anchor=\"end\" x=\"79\" y=\"4.199999999999999\" style=\"font-family: 'Open Sans', verdana, arial, sans-serif; font-size: 12px; fill: rgb(242, 245, 250); fill-opacity: 1; white-space: pre; opacity: 1;\" transform=\"translate(0,179.49)\">10k</text></g><g class=\"ytick\"><text text-anchor=\"end\" x=\"79\" y=\"4.199999999999999\" style=\"font-family: 'Open Sans', verdana, arial, sans-serif; font-size: 12px; fill: rgb(242, 245, 250); fill-opacity: 1; white-space: pre; opacity: 1;\" transform=\"translate(0,112.74000000000001)\">20k</text></g></g><g class=\"overaxes-above\"/></g></g><g class=\"polarlayer\"/><g class=\"smithlayer\"/><g class=\"ternarylayer\"/><g class=\"geolayer\"/><g class=\"funnelarealayer\"/><g class=\"pielayer\"/><g class=\"iciclelayer\"/><g class=\"treemaplayer\"/><g class=\"sunburstlayer\"/><g class=\"glimages\"/><defs id=\"topdefs-0e9e2e\"><g class=\"clips\"/></defs><g class=\"layer-above\"><g class=\"imagelayer\"/><g class=\"shapelayer\"/></g><g class=\"infolayer\"><g class=\"g-gtitle\"/><g class=\"g-xtitle\"><text class=\"xtitle\" x=\"500\" y=\"310.8\" text-anchor=\"middle\" style=\"font-family: 'Open Sans', verdana, arial, sans-serif; font-size: 14px; fill: rgb(242, 245, 250); opacity: 1; font-weight: normal; white-space: pre;\">Date</text></g><g class=\"g-ytitle\"><text class=\"ytitle\" transform=\"rotate(-90,31.840625000000003,165)\" x=\"31.840625000000003\" y=\"165\" text-anchor=\"middle\" style=\"font-family: 'Open Sans', verdana, arial, sans-serif; font-size: 14px; fill: rgb(242, 245, 250); opacity: 1; font-weight: normal; white-space: pre;\">Kbps</text></g></g></svg>"
      ]
     },
     "metadata": {},
     "output_type": "display_data"
    }
   ],
   "source": [
    "fig = px.line(df_c,\n",
    "                        x=df_c.index,\n",
    "                        y=['Value','Predicted_Values'],\n",
    "                        template = 'plotly_dark').update_layout(\n",
    "                            xaxis_title=\"Date\",\n",
    "                            yaxis_title=\"Kbps\",\n",
    "                        )\n",
    "\n",
    "fig.update_layout(width = 1000, height=350,showlegend=False)\n",
    "\n",
    "fig.show()"
   ]
  },
  {
   "cell_type": "code",
   "execution_count": 23,
   "id": "2d101fa5",
   "metadata": {},
   "outputs": [
    {
     "name": "stdout",
     "output_type": "stream",
     "text": [
      "RMSE: 4957.876172149592\n"
     ]
    }
   ],
   "source": [
    "df_c.dropna(inplace=True)\n",
    "print(f\"RMSE: {np.sqrt(mean_squared_error(df_c.Value, df_c.Predicted_Values))}\")"
   ]
  },
  {
   "cell_type": "markdown",
   "id": "2ecf7612",
   "metadata": {},
   "source": [
    "### Training Non-Stationary Dataset"
   ]
  },
  {
   "cell_type": "markdown",
   "id": "1194285c",
   "metadata": {},
   "source": [
    "Based on the results of the ACF and ADF tests, the data from the Balikpapan financial training center is non-stationary. The next step is to perform differencing until the dataset becomes stationary."
   ]
  },
  {
   "cell_type": "markdown",
   "id": "bb1eea43",
   "metadata": {},
   "source": [
    "#### Differencing"
   ]
  },
  {
   "cell_type": "code",
   "execution_count": 24,
   "id": "2fd49e61",
   "metadata": {},
   "outputs": [
    {
     "data": {
      "text/html": [
       "<div>\n",
       "<style scoped>\n",
       "    .dataframe tbody tr th:only-of-type {\n",
       "        vertical-align: middle;\n",
       "    }\n",
       "\n",
       "    .dataframe tbody tr th {\n",
       "        vertical-align: top;\n",
       "    }\n",
       "\n",
       "    .dataframe thead th {\n",
       "        text-align: right;\n",
       "    }\n",
       "</style>\n",
       "<table border=\"1\" class=\"dataframe\">\n",
       "  <thead>\n",
       "    <tr style=\"text-align: right;\">\n",
       "      <th></th>\n",
       "      <th>Value</th>\n",
       "    </tr>\n",
       "    <tr>\n",
       "      <th>Date</th>\n",
       "      <th></th>\n",
       "    </tr>\n",
       "  </thead>\n",
       "  <tbody>\n",
       "    <tr>\n",
       "      <th>2023-05-01</th>\n",
       "      <td>35.40</td>\n",
       "    </tr>\n",
       "    <tr>\n",
       "      <th>2023-05-02</th>\n",
       "      <td>5466.11</td>\n",
       "    </tr>\n",
       "    <tr>\n",
       "      <th>2023-05-03</th>\n",
       "      <td>1649.56</td>\n",
       "    </tr>\n",
       "    <tr>\n",
       "      <th>2023-05-04</th>\n",
       "      <td>1070.31</td>\n",
       "    </tr>\n",
       "    <tr>\n",
       "      <th>2023-05-05</th>\n",
       "      <td>22221.06</td>\n",
       "    </tr>\n",
       "  </tbody>\n",
       "</table>\n",
       "</div>"
      ],
      "text/plain": [
       "               Value\n",
       "Date                \n",
       "2023-05-01     35.40\n",
       "2023-05-02   5466.11\n",
       "2023-05-03   1649.56\n",
       "2023-05-04   1070.31\n",
       "2023-05-05  22221.06"
      ]
     },
     "execution_count": 24,
     "metadata": {},
     "output_type": "execute_result"
    }
   ],
   "source": [
    "df = pd.DataFrame(data['Balai Diklat Keuangan Balikpapan'])\n",
    "df.columns = ['Value']\n",
    "df.head()"
   ]
  },
  {
   "cell_type": "code",
   "execution_count": 25,
   "id": "8f0b5495",
   "metadata": {},
   "outputs": [
    {
     "data": {
      "text/plain": [
       "9.612909442708611e-09"
      ]
     },
     "execution_count": 25,
     "metadata": {},
     "output_type": "execute_result"
    }
   ],
   "source": [
    "df_testing = pd.DataFrame(np.log(df.Value).diff().diff(12))\n",
    "df_testing = df_testing.replace([-np.inf, np.inf], np.nan)\n",
    "adf_check(df_testing.Value.dropna())"
   ]
  },
  {
   "cell_type": "markdown",
   "id": "73a54d0a",
   "metadata": {},
   "source": [
    "Since the p-value is less than 0.05, the dataset is considered stationary."
   ]
  },
  {
   "cell_type": "code",
   "execution_count": 26,
   "id": "4e0c02bf",
   "metadata": {},
   "outputs": [
    {
     "data": {
      "image/svg+xml": [
       "<svg class=\"main-svg\" xmlns=\"http://www.w3.org/2000/svg\" xmlns:xlink=\"http://www.w3.org/1999/xlink\" width=\"1000\" height=\"350\" style=\"\" viewBox=\"0 0 1000 350\"><rect x=\"0\" y=\"0\" width=\"1000\" height=\"350\" style=\"fill: rgb(17, 17, 17); fill-opacity: 1;\"/><defs id=\"defs-973a3b\"><g class=\"clips\"><clipPath id=\"clip973a3bxyplot\" class=\"plotclip\"><rect width=\"840\" height=\"210\"/></clipPath><clipPath class=\"axesclip\" id=\"clip973a3bx\"><rect x=\"80\" y=\"0\" width=\"840\" height=\"350\"/></clipPath><clipPath class=\"axesclip\" id=\"clip973a3by\"><rect x=\"0\" y=\"60\" width=\"1000\" height=\"210\"/></clipPath><clipPath class=\"axesclip\" id=\"clip973a3bxy\"><rect x=\"80\" y=\"60\" width=\"840\" height=\"210\"/></clipPath></g><g class=\"gradients\"/><g class=\"patterns\"/></defs><g class=\"bglayer\"/><g class=\"layer-below\"><g class=\"imagelayer\"/><g class=\"shapelayer\"/></g><g class=\"cartesianlayer\"><g class=\"subplot xy\"><g class=\"layer-subplot\"><g class=\"shapelayer\"/><g class=\"imagelayer\"/></g><g class=\"minor-gridlayer\"><g class=\"x\"/><g class=\"y\"/></g><g class=\"gridlayer\"><g class=\"x\"><path class=\"xgrid crisp\" transform=\"translate(202.25,0)\" d=\"M0,60v210\" style=\"stroke: rgb(40, 52, 66); stroke-opacity: 1; stroke-width: 1px;\"/><path class=\"xgrid crisp\" transform=\"translate(320.56,0)\" d=\"M0,60v210\" style=\"stroke: rgb(40, 52, 66); stroke-opacity: 1; stroke-width: 1px;\"/><path class=\"xgrid crisp\" transform=\"translate(442.82,0)\" d=\"M0,60v210\" style=\"stroke: rgb(40, 52, 66); stroke-opacity: 1; stroke-width: 1px;\"/><path class=\"xgrid crisp\" transform=\"translate(565.0699999999999,0)\" d=\"M0,60v210\" style=\"stroke: rgb(40, 52, 66); stroke-opacity: 1; stroke-width: 1px;\"/><path class=\"xgrid crisp\" transform=\"translate(683.38,0)\" d=\"M0,60v210\" style=\"stroke: rgb(40, 52, 66); stroke-opacity: 1; stroke-width: 1px;\"/><path class=\"xgrid crisp\" transform=\"translate(805.63,0)\" d=\"M0,60v210\" style=\"stroke: rgb(40, 52, 66); stroke-opacity: 1; stroke-width: 1px;\"/></g><g class=\"y\"><path class=\"ygrid crisp\" transform=\"translate(0,230.91)\" d=\"M80,0h840\" style=\"stroke: rgb(40, 52, 66); stroke-opacity: 1; stroke-width: 1px;\"/><path class=\"ygrid crisp\" transform=\"translate(0,131.75)\" d=\"M80,0h840\" style=\"stroke: rgb(40, 52, 66); stroke-opacity: 1; stroke-width: 1px;\"/><path class=\"ygrid crisp\" transform=\"translate(0,82.17)\" d=\"M80,0h840\" style=\"stroke: rgb(40, 52, 66); stroke-opacity: 1; stroke-width: 1px;\"/></g></g><g class=\"zerolinelayer\"><path class=\"yzl zl crisp\" transform=\"translate(0,181.32999999999998)\" d=\"M80,0h840\" style=\"stroke: rgb(40, 52, 66); stroke-opacity: 1; stroke-width: 2px;\"/></g><path class=\"xlines-below\"/><path class=\"ylines-below\"/><g class=\"overlines-below\"/><g class=\"xaxislayer-below\"/><g class=\"yaxislayer-below\"/><g class=\"overaxes-below\"/><g class=\"plot\" transform=\"translate(80,60)\" clip-path=\"url(#clip973a3bxyplot)\"><g class=\"scatterlayer mlayer\"><g class=\"trace scatter trace49161a\" style=\"stroke-miterlimit: 2; opacity: 1;\"><g class=\"fills\"/><g class=\"errorbars\"/><g class=\"lines\"><path class=\"js-line\" d=\"M51.27,156.3L55.21,96.59L59.15,115.59L63.1,160.61L67.04,101.19L70.99,92.62L74.93,171.93L78.87,131.86L82.82,77.77L86.76,132.06L90.7,102.95L94.65,123.23L98.59,120.53L102.54,162.45L106.48,141.47L110.42,59.95L114.37,114.8L118.31,146.52L122.25,102.61L126.2,121.51L130.14,161.59L134.08,141.22L138.03,88.24L141.97,78.43L145.92,173.32L149.86,95.78L153.8,72.37L157.75,193.18L161.69,127.25L165.63,74.83L169.58,124.65L173.52,109.87L177.46,143.97L181.41,99.03L185.35,162.9L189.3,155.67L193.24,79.29L197.18,101.97L201.13,160.64L205.07,99.35L209.01,85.28L212.96,157.8L216.9,113.14L220.85,117.35L224.79,95.33L228.73,185.42L232.68,112.07L236.62,116.67L240.56,133.08L244.51,138.4L248.45,62.48L256.34,161.6L260.28,122.5L264.23,106.08L268.17,149.09L272.11,159.39L276.06,10.5L280,133.53L283.94,128.17L287.89,108.13L291.83,120.09L295.77,177.12L299.72,160.54L303.66,45.34L307.61,141.65\" style=\"vector-effect: non-scaling-stroke; fill: none; stroke: rgb(99, 110, 250); stroke-opacity: 1; stroke-width: 2px; opacity: 1;\"/><path class=\"js-line\" d=\"M319.44,66.35L323.38,199.5L327.32,124.69L331.27,71.77L335.21,103.26L339.15,145.14L343.1,136.67L347.04,92.93L350.99,174.58L354.93,114.86\" style=\"vector-effect: non-scaling-stroke; fill: none; stroke: rgb(99, 110, 250); stroke-opacity: 1; stroke-width: 2px; opacity: 1;\"/><path class=\"js-line\" d=\"M366.76,151.55L370.7,102.13L374.65,117.04L378.59,174.53L382.54,145.71L386.48,81.24L390.42,91.56L394.37,108.19L398.31,112.83L406.2,148.38L410.14,156L414.08,87.36L418.03,114.49L421.97,95.47L425.92,128.21L429.86,106.32L433.8,168.5L437.75,135.31L441.69,116.44L445.63,105.41L449.58,117.38L453.52,103.75L457.46,120.05L461.41,154.25L465.35,124.07L469.3,139.83L473.24,89.22L477.18,125.04L481.13,80.33L485.07,111.92L489.01,166.74L492.96,153.67L496.9,66.43L500.85,146.81L504.79,92.11L508.73,120.93L512.68,112.83L516.62,163.13L520.56,118.9L524.51,129.44L528.45,113.59L532.39,115.99L536.34,106.18L540.28,95.29L544.23,192.31L548.17,106.04L552.11,108.86L556.06,129.2L560,101.13L563.94,83.84L567.89,134.48L571.83,133.81L575.77,152.09L579.72,113.57L583.66,111.93L587.61,126.99L591.55,132.55L595.49,84.57L599.44,155.81L603.38,101.34L607.32,118.01L611.27,141.87L615.21,97.49L619.15,119.77L623.1,115.05L627.04,152.23L630.99,110.19L634.93,121.19L638.87,74.72L642.82,152.51L646.76,122.44L650.7,143.49L654.65,134.87L658.59,114.94L662.54,137.33L666.48,94.16L670.42,117.77L674.37,114.56L678.31,141.88L682.25,121.44L686.2,134.32L690.14,123.62L694.08,96.92L698.03,104.72L701.97,119.23L705.92,131.88L709.86,127.52L713.8,145.65L717.75,114.46L721.69,100.32L725.63,111.78L729.58,124.32L733.52,131.05L737.46,126.5L741.41,131.45L745.35,120.49L749.3,117.17L753.24,103.52L757.18,129.42L761.13,117.45L765.07,139.27L769.01,134.98L772.96,106.07L776.9,131.06L780.85,102.37L784.79,121.08L788.73,131.41L792.68,118.49L796.62,136.65L800.56,112.02L804.51,115.53L808.45,121.72L812.39,114.49L820.28,129.39L824.23,113.1L828.17,119.05L832.11,110.1L836.06,126.67L840,122.89\" style=\"vector-effect: non-scaling-stroke; fill: none; stroke: rgb(99, 110, 250); stroke-opacity: 1; stroke-width: 2px; opacity: 1;\"/></g><g class=\"points\"/><g class=\"text\"/></g></g></g><g class=\"overplot\"/><path class=\"xlines-above crisp\" d=\"M0,0\" style=\"fill: none;\"/><path class=\"ylines-above crisp\" d=\"M0,0\" style=\"fill: none;\"/><g class=\"overlines-above\"/><g class=\"xaxislayer-above\"><g class=\"xtick\"><text text-anchor=\"middle\" x=\"0\" y=\"283\" transform=\"translate(80,0)\" style=\"font-family: 'Open Sans', verdana, arial, sans-serif; font-size: 12px; fill: rgb(242, 245, 250); fill-opacity: 1; white-space: pre; opacity: 1;\">May 2023</text></g><g class=\"xtick\"><text text-anchor=\"middle\" x=\"0\" y=\"283\" style=\"font-family: 'Open Sans', verdana, arial, sans-serif; font-size: 12px; fill: rgb(242, 245, 250); fill-opacity: 1; white-space: pre; opacity: 1;\" transform=\"translate(202.25,0)\">Jun 2023</text></g><g class=\"xtick\"><text text-anchor=\"middle\" x=\"0\" y=\"283\" style=\"font-family: 'Open Sans', verdana, arial, sans-serif; font-size: 12px; fill: rgb(242, 245, 250); fill-opacity: 1; white-space: pre; opacity: 1;\" transform=\"translate(320.56,0)\">Jul 2023</text></g><g class=\"xtick\"><text text-anchor=\"middle\" x=\"0\" y=\"283\" style=\"font-family: 'Open Sans', verdana, arial, sans-serif; font-size: 12px; fill: rgb(242, 245, 250); fill-opacity: 1; white-space: pre; opacity: 1;\" transform=\"translate(442.82,0)\">Aug 2023</text></g><g class=\"xtick\"><text text-anchor=\"middle\" x=\"0\" y=\"283\" style=\"font-family: 'Open Sans', verdana, arial, sans-serif; font-size: 12px; fill: rgb(242, 245, 250); fill-opacity: 1; white-space: pre; opacity: 1;\" transform=\"translate(565.0699999999999,0)\">Sep 2023</text></g><g class=\"xtick\"><text text-anchor=\"middle\" x=\"0\" y=\"283\" style=\"font-family: 'Open Sans', verdana, arial, sans-serif; font-size: 12px; fill: rgb(242, 245, 250); fill-opacity: 1; white-space: pre; opacity: 1;\" transform=\"translate(683.38,0)\">Oct 2023</text></g><g class=\"xtick\"><text text-anchor=\"middle\" x=\"0\" y=\"283\" style=\"font-family: 'Open Sans', verdana, arial, sans-serif; font-size: 12px; fill: rgb(242, 245, 250); fill-opacity: 1; white-space: pre; opacity: 1;\" transform=\"translate(805.63,0)\">Nov 2023</text></g></g><g class=\"yaxislayer-above\"><g class=\"ytick\"><text text-anchor=\"end\" x=\"79\" y=\"4.199999999999999\" transform=\"translate(0,230.91)\" style=\"font-family: 'Open Sans', verdana, arial, sans-serif; font-size: 12px; fill: rgb(242, 245, 250); fill-opacity: 1; white-space: pre; opacity: 1;\">−5</text></g><g class=\"ytick\"><text text-anchor=\"end\" x=\"79\" y=\"4.199999999999999\" style=\"font-family: 'Open Sans', verdana, arial, sans-serif; font-size: 12px; fill: rgb(242, 245, 250); fill-opacity: 1; white-space: pre; opacity: 1;\" transform=\"translate(0,181.32999999999998)\">0</text></g><g class=\"ytick\"><text text-anchor=\"end\" x=\"79\" y=\"4.199999999999999\" style=\"font-family: 'Open Sans', verdana, arial, sans-serif; font-size: 12px; fill: rgb(242, 245, 250); fill-opacity: 1; white-space: pre; opacity: 1;\" transform=\"translate(0,131.75)\">5</text></g><g class=\"ytick\"><text text-anchor=\"end\" x=\"79\" y=\"4.199999999999999\" style=\"font-family: 'Open Sans', verdana, arial, sans-serif; font-size: 12px; fill: rgb(242, 245, 250); fill-opacity: 1; white-space: pre; opacity: 1;\" transform=\"translate(0,82.17)\">10</text></g></g><g class=\"overaxes-above\"/></g></g><g class=\"polarlayer\"/><g class=\"smithlayer\"/><g class=\"ternarylayer\"/><g class=\"geolayer\"/><g class=\"funnelarealayer\"/><g class=\"pielayer\"/><g class=\"iciclelayer\"/><g class=\"treemaplayer\"/><g class=\"sunburstlayer\"/><g class=\"glimages\"/><defs id=\"topdefs-973a3b\"><g class=\"clips\"/></defs><g class=\"layer-above\"><g class=\"imagelayer\"/><g class=\"shapelayer\"/></g><g class=\"infolayer\"><g class=\"g-gtitle\"/><g class=\"g-xtitle\"><text class=\"xtitle\" x=\"500\" y=\"310.8\" text-anchor=\"middle\" style=\"font-family: 'Open Sans', verdana, arial, sans-serif; font-size: 14px; fill: rgb(242, 245, 250); opacity: 1; font-weight: normal; white-space: pre;\">Date</text></g><g class=\"g-ytitle\"><text class=\"ytitle\" transform=\"rotate(-90,36.746875,165)\" x=\"36.746875\" y=\"165\" text-anchor=\"middle\" style=\"font-family: 'Open Sans', verdana, arial, sans-serif; font-size: 14px; fill: rgb(242, 245, 250); opacity: 1; font-weight: normal; white-space: pre;\">Log</text></g></g></svg>"
      ]
     },
     "metadata": {},
     "output_type": "display_data"
    }
   ],
   "source": [
    "fig = px.line(df_testing,\n",
    "                        x=df_testing.index,\n",
    "                        y=df_testing.columns,\n",
    "                        template = 'plotly_dark').update_layout(\n",
    "                            xaxis_title=\"Date\",\n",
    "                            yaxis_title=\"Log\",\n",
    "                        )\n",
    "\n",
    "fig.update_layout(width = 1000, height=350,showlegend=False)\n",
    "\n",
    "fig.show()"
   ]
  },
  {
   "cell_type": "code",
   "execution_count": 27,
   "id": "8caeb18d",
   "metadata": {},
   "outputs": [
    {
     "data": {
      "image/png": "[encoded data removed]",
      "text/plain": [
       "<Figure size 640x480 with 1 Axes>"
      ]
     },
     "metadata": {},
     "output_type": "display_data"
    },
    {
     "data": {
      "image/png": "[encoded data removed]",
      "text/plain": [
       "<Figure size 640x480 with 1 Axes>"
      ]
     },
     "metadata": {},
     "output_type": "display_data"
    }
   ],
   "source": [
    "ACF = plot_acf(df_testing.dropna(),lags=50)\n",
    "PACF = plot_pacf(df_testing.dropna(),lags=50)"
   ]
  },
  {
   "cell_type": "code",
   "execution_count": 28,
   "id": "3677e48e",
   "metadata": {},
   "outputs": [
    {
     "data": {
      "text/html": [
       "<div>\n",
       "<style scoped>\n",
       "    .dataframe tbody tr th:only-of-type {\n",
       "        vertical-align: middle;\n",
       "    }\n",
       "\n",
       "    .dataframe tbody tr th {\n",
       "        vertical-align: top;\n",
       "    }\n",
       "\n",
       "    .dataframe thead th {\n",
       "        text-align: right;\n",
       "    }\n",
       "</style>\n",
       "<table border=\"1\" class=\"dataframe\">\n",
       "  <thead>\n",
       "    <tr style=\"text-align: right;\">\n",
       "      <th></th>\n",
       "      <th>Value</th>\n",
       "    </tr>\n",
       "    <tr>\n",
       "      <th>Date</th>\n",
       "      <th></th>\n",
       "    </tr>\n",
       "  </thead>\n",
       "  <tbody>\n",
       "    <tr>\n",
       "      <th>2023-05-01</th>\n",
       "      <td>NaN</td>\n",
       "    </tr>\n",
       "    <tr>\n",
       "      <th>2023-05-02</th>\n",
       "      <td>NaN</td>\n",
       "    </tr>\n",
       "    <tr>\n",
       "      <th>2023-05-03</th>\n",
       "      <td>NaN</td>\n",
       "    </tr>\n",
       "    <tr>\n",
       "      <th>2023-05-04</th>\n",
       "      <td>NaN</td>\n",
       "    </tr>\n",
       "    <tr>\n",
       "      <th>2023-05-05</th>\n",
       "      <td>NaN</td>\n",
       "    </tr>\n",
       "    <tr>\n",
       "      <th>...</th>\n",
       "      <td>...</td>\n",
       "    </tr>\n",
       "    <tr>\n",
       "      <th>2023-11-26</th>\n",
       "      <td>0.829407</td>\n",
       "    </tr>\n",
       "    <tr>\n",
       "      <th>2023-11-27</th>\n",
       "      <td>0.229975</td>\n",
       "    </tr>\n",
       "    <tr>\n",
       "      <th>2023-11-28</th>\n",
       "      <td>1.132074</td>\n",
       "    </tr>\n",
       "    <tr>\n",
       "      <th>2023-11-29</th>\n",
       "      <td>-0.538582</td>\n",
       "    </tr>\n",
       "    <tr>\n",
       "      <th>2023-11-30</th>\n",
       "      <td>-0.157909</td>\n",
       "    </tr>\n",
       "  </tbody>\n",
       "</table>\n",
       "<p>214 rows × 1 columns</p>\n",
       "</div>"
      ],
      "text/plain": [
       "               Value\n",
       "Date                \n",
       "2023-05-01       NaN\n",
       "2023-05-02       NaN\n",
       "2023-05-03       NaN\n",
       "2023-05-04       NaN\n",
       "2023-05-05       NaN\n",
       "...              ...\n",
       "2023-11-26  0.829407\n",
       "2023-11-27  0.229975\n",
       "2023-11-28  1.132074\n",
       "2023-11-29 -0.538582\n",
       "2023-11-30 -0.157909\n",
       "\n",
       "[214 rows x 1 columns]"
      ]
     },
     "execution_count": 28,
     "metadata": {},
     "output_type": "execute_result"
    }
   ],
   "source": [
    "df_testing"
   ]
  },
  {
   "cell_type": "markdown",
   "id": "bd3f00c7",
   "metadata": {},
   "source": [
    "#### AR Modelling"
   ]
  },
  {
   "cell_type": "code",
   "execution_count": 29,
   "id": "89dfee5e",
   "metadata": {},
   "outputs": [
    {
     "name": "stdout",
     "output_type": "stream",
     "text": [
      "The RMSE is : 1.1784179419871865 , Value of p :  1\n",
      "The RMSE is : 1.2949011578033423 , Value of p :  2\n",
      "The RMSE is : 1.2846197658638285 , Value of p :  3\n",
      "The RMSE is : 1.2357741890837237 , Value of p :  4\n",
      "The RMSE is : 0.9649338257332418 , Value of p :  5\n",
      "The RMSE is : 0.8175803716920943 , Value of p :  6\n",
      "The RMSE is : 0.8287456885345973 , Value of p :  7\n",
      "The RMSE is : 0.7800082480015822 , Value of p :  8\n",
      "The RMSE is : 0.7962971198430927 , Value of p :  9\n",
      "The RMSE is : 0.8610789923436707 , Value of p :  10\n",
      "The RMSE is : 0.8263017100865115 , Value of p :  11\n",
      "The RMSE is : 0.8943333264293215 , Value of p :  12\n",
      "The RMSE is : 0.9161893003256886 , Value of p :  13\n",
      "The RMSE is : 0.9159004935729721 , Value of p :  14\n",
      "The RMSE is : 0.9385746823354484 , Value of p :  15\n",
      "The RMSE is : 0.961813073717618 , Value of p :  16\n",
      "The RMSE is : 1.0518276630718553 , Value of p :  17\n",
      "The RMSE is : 1.086300615343055 , Value of p :  18\n",
      "The RMSE is : 1.1197709311291568 , Value of p :  19\n",
      "The RMSE is : 1.1914179082481677 , Value of p :  20\n"
     ]
    }
   ],
   "source": [
    "RMSE_AR = []\n",
    "\n",
    "for p in range(1,21):\n",
    "  df_train_2,df_test,theta,intercept,RMSE = AR(p, df_testing)\n",
    "  RMSE_AR.append(RMSE)"
   ]
  },
  {
   "cell_type": "markdown",
   "id": "71c959a8",
   "metadata": {},
   "source": [
    "From the data, it can be seen that the smallest RMSE value for the AR model is achieved when using p=8, with an RMSE value of 0.780008 (in log)."
   ]
  },
  {
   "cell_type": "code",
   "execution_count": 30,
   "id": "2b04de75",
   "metadata": {},
   "outputs": [
    {
     "name": "stdout",
     "output_type": "stream",
     "text": [
      "The RMSE is : 0.7800082480015822 , Value of p :  8\n"
     ]
    }
   ],
   "source": [
    "df_testing = pd.DataFrame(np.log(df.Value).diff().diff(12))\n",
    "df_testing = df_testing.replace([-np.inf, np.inf], np.nan)\n",
    "adf_check(df_testing.Value.dropna())\n",
    "df_train_2,df_test,theta,intercept,RMSE = AR(8, pd.DataFrame(df_testing))"
   ]
  },
  {
   "cell_type": "markdown",
   "id": "612098b5",
   "metadata": {},
   "source": [
    "#### MA Modelling"
   ]
  },
  {
   "cell_type": "markdown",
   "id": "ebd08272",
   "metadata": {},
   "source": [
    "In this case, because MA uses errors or the level of mistakes, we first find the residual, which is the difference between the actual value and the predicted value.\n",
    "\n",
    "\n",
    "\n",
    "\n",
    "\n"
   ]
  },
  {
   "cell_type": "code",
   "execution_count": 31,
   "id": "08bd4626",
   "metadata": {},
   "outputs": [],
   "source": [
    "df_c = pd.concat([df_train_2,df_test])\n",
    "res = pd.DataFrame()\n",
    "res['Residuals'] = df_c.Value - df_c.Predicted_Values"
   ]
  },
  {
   "cell_type": "code",
   "execution_count": 32,
   "id": "b461bbf2",
   "metadata": {},
   "outputs": [
    {
     "data": {
      "text/html": [
       "<div>\n",
       "<style scoped>\n",
       "    .dataframe tbody tr th:only-of-type {\n",
       "        vertical-align: middle;\n",
       "    }\n",
       "\n",
       "    .dataframe tbody tr th {\n",
       "        vertical-align: top;\n",
       "    }\n",
       "\n",
       "    .dataframe thead th {\n",
       "        text-align: right;\n",
       "    }\n",
       "</style>\n",
       "<table border=\"1\" class=\"dataframe\">\n",
       "  <thead>\n",
       "    <tr style=\"text-align: right;\">\n",
       "      <th></th>\n",
       "      <th>Value</th>\n",
       "      <th>Predicted_Values</th>\n",
       "    </tr>\n",
       "    <tr>\n",
       "      <th>Date</th>\n",
       "      <th></th>\n",
       "      <th></th>\n",
       "    </tr>\n",
       "  </thead>\n",
       "  <tbody>\n",
       "    <tr>\n",
       "      <th>2023-05-22</th>\n",
       "      <td>4.392659</td>\n",
       "      <td>3.455619</td>\n",
       "    </tr>\n",
       "    <tr>\n",
       "      <th>2023-05-23</th>\n",
       "      <td>-1.082100</td>\n",
       "      <td>-0.795119</td>\n",
       "    </tr>\n",
       "    <tr>\n",
       "      <th>2023-05-24</th>\n",
       "      <td>1.853407</td>\n",
       "      <td>-1.982545</td>\n",
       "    </tr>\n",
       "    <tr>\n",
       "      <th>2023-05-25</th>\n",
       "      <td>-0.191652</td>\n",
       "      <td>-0.603884</td>\n",
       "    </tr>\n",
       "    <tr>\n",
       "      <th>2023-05-26</th>\n",
       "      <td>0.080237</td>\n",
       "      <td>1.183760</td>\n",
       "    </tr>\n",
       "    <tr>\n",
       "      <th>...</th>\n",
       "      <td>...</td>\n",
       "      <td>...</td>\n",
       "    </tr>\n",
       "    <tr>\n",
       "      <th>2023-11-26</th>\n",
       "      <td>0.829407</td>\n",
       "      <td>-0.505137</td>\n",
       "    </tr>\n",
       "    <tr>\n",
       "      <th>2023-11-27</th>\n",
       "      <td>0.229975</td>\n",
       "      <td>-0.822146</td>\n",
       "    </tr>\n",
       "    <tr>\n",
       "      <th>2023-11-28</th>\n",
       "      <td>1.132074</td>\n",
       "      <td>-0.392764</td>\n",
       "    </tr>\n",
       "    <tr>\n",
       "      <th>2023-11-29</th>\n",
       "      <td>-0.538582</td>\n",
       "      <td>-1.047966</td>\n",
       "    </tr>\n",
       "    <tr>\n",
       "      <th>2023-11-30</th>\n",
       "      <td>-0.157909</td>\n",
       "      <td>-0.061421</td>\n",
       "    </tr>\n",
       "  </tbody>\n",
       "</table>\n",
       "<p>173 rows × 2 columns</p>\n",
       "</div>"
      ],
      "text/plain": [
       "               Value  Predicted_Values\n",
       "Date                                  \n",
       "2023-05-22  4.392659          3.455619\n",
       "2023-05-23 -1.082100         -0.795119\n",
       "2023-05-24  1.853407         -1.982545\n",
       "2023-05-25 -0.191652         -0.603884\n",
       "2023-05-26  0.080237          1.183760\n",
       "...              ...               ...\n",
       "2023-11-26  0.829407         -0.505137\n",
       "2023-11-27  0.229975         -0.822146\n",
       "2023-11-28  1.132074         -0.392764\n",
       "2023-11-29 -0.538582         -1.047966\n",
       "2023-11-30 -0.157909         -0.061421\n",
       "\n",
       "[173 rows x 2 columns]"
      ]
     },
     "execution_count": 32,
     "metadata": {},
     "output_type": "execute_result"
    }
   ],
   "source": [
    "df_c[['Value', 'Predicted_Values']]"
   ]
  },
  {
   "cell_type": "code",
   "execution_count": 33,
   "id": "9feaf76e",
   "metadata": {},
   "outputs": [
    {
     "data": {
      "text/html": [
       "<div>\n",
       "<style scoped>\n",
       "    .dataframe tbody tr th:only-of-type {\n",
       "        vertical-align: middle;\n",
       "    }\n",
       "\n",
       "    .dataframe tbody tr th {\n",
       "        vertical-align: top;\n",
       "    }\n",
       "\n",
       "    .dataframe thead th {\n",
       "        text-align: right;\n",
       "    }\n",
       "</style>\n",
       "<table border=\"1\" class=\"dataframe\">\n",
       "  <thead>\n",
       "    <tr style=\"text-align: right;\">\n",
       "      <th></th>\n",
       "      <th>Residuals</th>\n",
       "    </tr>\n",
       "    <tr>\n",
       "      <th>Date</th>\n",
       "      <th></th>\n",
       "    </tr>\n",
       "  </thead>\n",
       "  <tbody>\n",
       "    <tr>\n",
       "      <th>2023-05-22</th>\n",
       "      <td>0.937040</td>\n",
       "    </tr>\n",
       "    <tr>\n",
       "      <th>2023-05-23</th>\n",
       "      <td>-0.286981</td>\n",
       "    </tr>\n",
       "    <tr>\n",
       "      <th>2023-05-24</th>\n",
       "      <td>3.835952</td>\n",
       "    </tr>\n",
       "    <tr>\n",
       "      <th>2023-05-25</th>\n",
       "      <td>0.412232</td>\n",
       "    </tr>\n",
       "    <tr>\n",
       "      <th>2023-05-26</th>\n",
       "      <td>-1.103523</td>\n",
       "    </tr>\n",
       "    <tr>\n",
       "      <th>...</th>\n",
       "      <td>...</td>\n",
       "    </tr>\n",
       "    <tr>\n",
       "      <th>2023-11-26</th>\n",
       "      <td>1.334544</td>\n",
       "    </tr>\n",
       "    <tr>\n",
       "      <th>2023-11-27</th>\n",
       "      <td>1.052121</td>\n",
       "    </tr>\n",
       "    <tr>\n",
       "      <th>2023-11-28</th>\n",
       "      <td>1.524838</td>\n",
       "    </tr>\n",
       "    <tr>\n",
       "      <th>2023-11-29</th>\n",
       "      <td>0.509384</td>\n",
       "    </tr>\n",
       "    <tr>\n",
       "      <th>2023-11-30</th>\n",
       "      <td>-0.096488</td>\n",
       "    </tr>\n",
       "  </tbody>\n",
       "</table>\n",
       "<p>173 rows × 1 columns</p>\n",
       "</div>"
      ],
      "text/plain": [
       "            Residuals\n",
       "Date                 \n",
       "2023-05-22   0.937040\n",
       "2023-05-23  -0.286981\n",
       "2023-05-24   3.835952\n",
       "2023-05-25   0.412232\n",
       "2023-05-26  -1.103523\n",
       "...               ...\n",
       "2023-11-26   1.334544\n",
       "2023-11-27   1.052121\n",
       "2023-11-28   1.524838\n",
       "2023-11-29   0.509384\n",
       "2023-11-30  -0.096488\n",
       "\n",
       "[173 rows x 1 columns]"
      ]
     },
     "execution_count": 33,
     "metadata": {},
     "output_type": "execute_result"
    }
   ],
   "source": [
    "res"
   ]
  },
  {
   "cell_type": "code",
   "execution_count": 34,
   "id": "c6fcce4c",
   "metadata": {},
   "outputs": [
    {
     "name": "stdout",
     "output_type": "stream",
     "text": [
      "The RMSE is : 0.7570382337556167 , Value of q :  1\n",
      "The RMSE is : 0.7533005471983684 , Value of q :  2\n",
      "The RMSE is : 0.7556418470769694 , Value of q :  3\n",
      "The RMSE is : 0.7524425901145411 , Value of q :  4\n",
      "The RMSE is : 0.760364670347359 , Value of q :  5\n",
      "The RMSE is : 0.7689947440563529 , Value of q :  6\n",
      "The RMSE is : 0.7958958004794875 , Value of q :  7\n",
      "The RMSE is : 0.801872887710347 , Value of q :  8\n",
      "The RMSE is : 0.8070207007618602 , Value of q :  9\n",
      "The RMSE is : 0.7988912281104795 , Value of q :  10\n",
      "The RMSE is : 0.7989844307601696 , Value of q :  11\n",
      "The RMSE is : 0.9052336794743727 , Value of q :  12\n",
      "The RMSE is : 0.9114114072231762 , Value of q :  13\n",
      "The RMSE is : 0.9087397349773048 , Value of q :  14\n",
      "The RMSE is : 0.9098430329560246 , Value of q :  15\n",
      "The RMSE is : 0.9208832825787631 , Value of q :  16\n",
      "The RMSE is : 0.9305358655048034 , Value of q :  17\n",
      "The RMSE is : 0.9313611705781493 , Value of q :  18\n",
      "The RMSE is : 0.8994102114278 , Value of q :  19\n",
      "The RMSE is : 0.8965525462453376 , Value of q :  20\n"
     ]
    }
   ],
   "source": [
    "RMSE_MA = []\n",
    "\n",
    "for q in range(1,21):\n",
    "  res_train_2,res_test,theta,intercept,RMSE = MA(q, res)\n",
    "  RMSE_MA.append(RMSE)"
   ]
  },
  {
   "cell_type": "markdown",
   "id": "cbb7d6da",
   "metadata": {},
   "source": [
    "From the modeling results, it can be seen that using q=4 in the MA model yields the lowest RMSE value, which is 0.752443 (in log)."
   ]
  },
  {
   "cell_type": "code",
   "execution_count": 35,
   "id": "efb97422",
   "metadata": {},
   "outputs": [
    {
     "name": "stdout",
     "output_type": "stream",
     "text": [
      "The RMSE is : 0.7524425901145411 , Value of q :  4\n"
     ]
    }
   ],
   "source": [
    "df_c = pd.concat([df_train_2,df_test])\n",
    "res = pd.DataFrame()\n",
    "res['Residuals'] = df_c.Value - df_c.Predicted_Values\n",
    "\n",
    "res_train_2,res_test,theta,intercept,RMSE = MA(4, res)"
   ]
  },
  {
   "cell_type": "code",
   "execution_count": 36,
   "id": "1f84dbb3",
   "metadata": {},
   "outputs": [],
   "source": [
    "res_c = pd.concat([res_train_2,res_test])"
   ]
  },
  {
   "cell_type": "code",
   "execution_count": 37,
   "id": "b31e26d4",
   "metadata": {},
   "outputs": [
    {
     "data": {
      "text/html": [
       "<div>\n",
       "<style scoped>\n",
       "    .dataframe tbody tr th:only-of-type {\n",
       "        vertical-align: middle;\n",
       "    }\n",
       "\n",
       "    .dataframe tbody tr th {\n",
       "        vertical-align: top;\n",
       "    }\n",
       "\n",
       "    .dataframe thead th {\n",
       "        text-align: right;\n",
       "    }\n",
       "</style>\n",
       "<table border=\"1\" class=\"dataframe\">\n",
       "  <thead>\n",
       "    <tr style=\"text-align: right;\">\n",
       "      <th></th>\n",
       "      <th>Residuals</th>\n",
       "      <th>Predicted_Values</th>\n",
       "    </tr>\n",
       "    <tr>\n",
       "      <th>Date</th>\n",
       "      <th></th>\n",
       "      <th></th>\n",
       "    </tr>\n",
       "  </thead>\n",
       "  <tbody>\n",
       "    <tr>\n",
       "      <th>2023-05-26</th>\n",
       "      <td>-1.103523</td>\n",
       "      <td>0.077471</td>\n",
       "    </tr>\n",
       "    <tr>\n",
       "      <th>2023-05-27</th>\n",
       "      <td>-1.524327</td>\n",
       "      <td>-0.156771</td>\n",
       "    </tr>\n",
       "    <tr>\n",
       "      <th>2023-05-28</th>\n",
       "      <td>-1.994392</td>\n",
       "      <td>-0.513035</td>\n",
       "    </tr>\n",
       "    <tr>\n",
       "      <th>2023-05-29</th>\n",
       "      <td>2.659510</td>\n",
       "      <td>-0.115101</td>\n",
       "    </tr>\n",
       "    <tr>\n",
       "      <th>2023-05-30</th>\n",
       "      <td>2.168046</td>\n",
       "      <td>0.112887</td>\n",
       "    </tr>\n",
       "    <tr>\n",
       "      <th>...</th>\n",
       "      <td>...</td>\n",
       "      <td>...</td>\n",
       "    </tr>\n",
       "    <tr>\n",
       "      <th>2023-11-26</th>\n",
       "      <td>1.334544</td>\n",
       "      <td>0.024830</td>\n",
       "    </tr>\n",
       "    <tr>\n",
       "      <th>2023-11-27</th>\n",
       "      <td>1.052121</td>\n",
       "      <td>-0.019677</td>\n",
       "    </tr>\n",
       "    <tr>\n",
       "      <th>2023-11-28</th>\n",
       "      <td>1.524838</td>\n",
       "      <td>0.030957</td>\n",
       "    </tr>\n",
       "    <tr>\n",
       "      <th>2023-11-29</th>\n",
       "      <td>0.509384</td>\n",
       "      <td>0.006128</td>\n",
       "    </tr>\n",
       "    <tr>\n",
       "      <th>2023-11-30</th>\n",
       "      <td>-0.096488</td>\n",
       "      <td>-0.127503</td>\n",
       "    </tr>\n",
       "  </tbody>\n",
       "</table>\n",
       "<p>169 rows × 2 columns</p>\n",
       "</div>"
      ],
      "text/plain": [
       "            Residuals  Predicted_Values\n",
       "Date                                   \n",
       "2023-05-26  -1.103523          0.077471\n",
       "2023-05-27  -1.524327         -0.156771\n",
       "2023-05-28  -1.994392         -0.513035\n",
       "2023-05-29   2.659510         -0.115101\n",
       "2023-05-30   2.168046          0.112887\n",
       "...               ...               ...\n",
       "2023-11-26   1.334544          0.024830\n",
       "2023-11-27   1.052121         -0.019677\n",
       "2023-11-28   1.524838          0.030957\n",
       "2023-11-29   0.509384          0.006128\n",
       "2023-11-30  -0.096488         -0.127503\n",
       "\n",
       "[169 rows x 2 columns]"
      ]
     },
     "execution_count": 37,
     "metadata": {},
     "output_type": "execute_result"
    }
   ],
   "source": [
    "res_c[['Residuals', 'Predicted_Values']]"
   ]
  },
  {
   "cell_type": "code",
   "execution_count": 38,
   "id": "03fa9500",
   "metadata": {},
   "outputs": [],
   "source": [
    "df_c.Predicted_Values += res_c.Predicted_Values"
   ]
  },
  {
   "cell_type": "code",
   "execution_count": 39,
   "id": "d099a089",
   "metadata": {},
   "outputs": [
    {
     "data": {
      "image/svg+xml": [
       "<svg class=\"main-svg\" xmlns=\"http://www.w3.org/2000/svg\" xmlns:xlink=\"http://www.w3.org/1999/xlink\" width=\"1000\" height=\"350\" style=\"\" viewBox=\"0 0 1000 350\"><rect x=\"0\" y=\"0\" width=\"1000\" height=\"350\" style=\"fill: rgb(17, 17, 17); fill-opacity: 1;\"/><defs id=\"defs-cc4e1b\"><g class=\"clips\"><clipPath id=\"clipcc4e1bxyplot\" class=\"plotclip\"><rect width=\"840\" height=\"210\"/></clipPath><clipPath class=\"axesclip\" id=\"clipcc4e1bx\"><rect x=\"80\" y=\"0\" width=\"840\" height=\"350\"/></clipPath><clipPath class=\"axesclip\" id=\"clipcc4e1by\"><rect x=\"0\" y=\"60\" width=\"1000\" height=\"210\"/></clipPath><clipPath class=\"axesclip\" id=\"clipcc4e1bxy\"><rect x=\"80\" y=\"60\" width=\"840\" height=\"210\"/></clipPath></g><g class=\"gradients\"/><g class=\"patterns\"/></defs><g class=\"bglayer\"/><g class=\"layer-below\"><g class=\"imagelayer\"/><g class=\"shapelayer\"/></g><g class=\"cartesianlayer\"><g class=\"subplot xy\"><g class=\"layer-subplot\"><g class=\"shapelayer\"/><g class=\"imagelayer\"/></g><g class=\"minor-gridlayer\"><g class=\"x\"/><g class=\"y\"/></g><g class=\"gridlayer\"><g class=\"x\"><path class=\"xgrid crisp\" transform=\"translate(123.75,0)\" d=\"M0,60v210\" style=\"stroke: rgb(40, 52, 66); stroke-opacity: 1; stroke-width: 1px;\"/><path class=\"xgrid crisp\" transform=\"translate(255,0)\" d=\"M0,60v210\" style=\"stroke: rgb(40, 52, 66); stroke-opacity: 1; stroke-width: 1px;\"/><path class=\"xgrid crisp\" transform=\"translate(390.63,0)\" d=\"M0,60v210\" style=\"stroke: rgb(40, 52, 66); stroke-opacity: 1; stroke-width: 1px;\"/><path class=\"xgrid crisp\" transform=\"translate(526.25,0)\" d=\"M0,60v210\" style=\"stroke: rgb(40, 52, 66); stroke-opacity: 1; stroke-width: 1px;\"/><path class=\"xgrid crisp\" transform=\"translate(657.5,0)\" d=\"M0,60v210\" style=\"stroke: rgb(40, 52, 66); stroke-opacity: 1; stroke-width: 1px;\"/><path class=\"xgrid crisp\" transform=\"translate(793.13,0)\" d=\"M0,60v210\" style=\"stroke: rgb(40, 52, 66); stroke-opacity: 1; stroke-width: 1px;\"/></g><g class=\"y\"><path class=\"ygrid crisp\" transform=\"translate(0,236.45)\" d=\"M80,0h840\" style=\"stroke: rgb(40, 52, 66); stroke-opacity: 1; stroke-width: 1px;\"/><path class=\"ygrid crisp\" transform=\"translate(0,133.87)\" d=\"M80,0h840\" style=\"stroke: rgb(40, 52, 66); stroke-opacity: 1; stroke-width: 1px;\"/><path class=\"ygrid crisp\" transform=\"translate(0,82.58)\" d=\"M80,0h840\" style=\"stroke: rgb(40, 52, 66); stroke-opacity: 1; stroke-width: 1px;\"/></g></g><g class=\"zerolinelayer\"><path class=\"yzl zl crisp\" transform=\"translate(0,185.16)\" d=\"M80,0h840\" style=\"stroke: rgb(40, 52, 66); stroke-opacity: 1; stroke-width: 2px;\"/></g><path class=\"xlines-below\"/><path class=\"ylines-below\"/><g class=\"overlines-below\"/><g class=\"xaxislayer-below\"/><g class=\"yaxislayer-below\"/><g class=\"overaxes-below\"/><g class=\"plot\" transform=\"translate(80,60)\" clip-path=\"url(#clipcc4e1bxyplot)\"><g class=\"scatterlayer mlayer\"><g class=\"trace scatter tracef99fbb\" style=\"stroke-miterlimit: 2; opacity: 1;\"><g class=\"fills\"/><g class=\"errorbars\"/><g class=\"lines\"><path class=\"js-line\" d=\"M0,80.1L4.38,136.26L8.75,106.15L13.13,127.13L17.5,124.34L21.88,167.7L26.25,146L30.63,61.66L35,118.41L39.38,151.22L43.75,105.8L48.13,125.35L52.5,166.81L56.88,145.74L61.25,90.93L65.63,80.77L70,178.95L74.38,98.73L78.75,74.51L83.13,199.5L87.5,131.28L91.88,77.05L96.25,128.59L100.63,113.3L105,148.58L109.38,102.09L113.75,168.17L118.13,160.69L122.5,81.66L126.88,105.13L131.25,165.83L135.63,102.42L140,87.87L144.38,162.89L148.75,116.68L153.13,121.04L157.5,98.26L161.88,191.47L166.25,115.58L170.63,120.34L175,137.32L179.38,142.82L183.75,64.28L192.5,166.82L196.88,126.37L201.25,109.39L205.63,153.88L210,164.53L214.38,10.5L218.75,137.79L223.13,132.23L227.5,111.5L231.88,123.88L236.25,182.88L240.63,165.72L245,46.55L249.38,146.19L297.5,180.25L301.88,118.47L350,116.37L354.38,134.71L358.75,153.14L363.13,161.03L367.5,90.01L371.88,118.09L376.25,98.41L380.63,132.27L385,109.63L389.38,173.96L393.75,139.62L398.13,120.1L402.5,108.69L406.88,121.07L411.25,106.97L415.63,123.84L420,159.22L424.38,127.99L428.75,144.3L433.13,91.94L437.5,129L441.88,82.74L446.25,115.42L450.63,172.15L455,158.62L459.38,68.37L463.75,151.52L468.13,94.93L472.5,124.75L476.88,116.36L481.25,168.41L485.63,122.65L490,133.55L494.38,117.15L498.75,119.64L503.13,109.49L507.5,98.22L511.88,198.6L516.25,109.35L520.63,112.27L525,133.31L529.38,104.26L533.75,86.37L538.13,138.76L542.5,138.08L546.88,156.99L551.25,117.13L555.63,115.44L560,131.01L564.38,136.77L568.75,87.13L573.13,160.83L577.5,104.48L581.88,121.73L586.25,146.41L590.63,100.5L595,123.55L599.38,118.67L603.75,157.13L608.13,113.64L612.5,125.02L616.88,76.94L621.25,157.42L625.63,126.31L630,148.08L634.38,139.17L638.75,118.55L643.13,141.72L647.5,97.05L651.88,121.48L656.25,118.16L660.63,146.42L665,125.27L669.38,138.6L673.75,127.53L678.13,99.91L682.5,107.97L686.88,122.99L691.25,136.08L695.63,131.57L700,150.33L704.38,118.05L708.75,103.43L713.13,115.28L717.5,128.25L721.88,135.22L726.25,130.51L730.63,135.63L735,124.29L739.38,120.86L743.75,106.73L748.13,133.54L752.5,121.15L756.88,143.72L761.25,139.29L765.63,109.38L770,135.23L774.38,105.54L778.75,124.9L783.13,135.59L787.5,122.23L791.88,141.01L796.25,115.53L800.63,119.16L805,125.57L809.38,118.08L818.13,133.5L822.5,116.65L826.88,122.8L831.25,113.55L835.63,130.68L840,126.78\" style=\"vector-effect: non-scaling-stroke; fill: none; stroke: rgb(99, 110, 250); stroke-opacity: 1; stroke-width: 2px; opacity: 1;\"/></g><g class=\"points\"/><g class=\"text\"/></g><g class=\"trace scatter trace977aec\" style=\"stroke-miterlimit: 2; opacity: 1;\"><g class=\"fills\"/><g class=\"errorbars\"/><g class=\"lines\"><path class=\"js-line\" d=\"M17.5,112.22L21.88,153.67L26.25,130.8L30.63,90.12L35,139.49L39.38,133.54L43.75,94.8L52.5,167.18L56.88,131.06L61.25,76.62L65.63,108.9L70,158.76L74.38,89.15L78.75,114.39L83.13,194.83L87.5,135.92L91.88,96.84L96.25,133.29L100.63,153.44L105,131.75L109.38,88.5L113.75,162.17L118.13,140.16L122.5,73.36L126.88,108.61L131.25,132.4L135.63,88.67L140,109.11L144.38,170.03L148.75,149.18L153.13,118.92L157.5,120.57L161.88,170.18L166.25,97.2L170.63,90.23L175,123.7L179.38,116.92L183.75,75.17L188.13,127.88L192.5,160.78L196.88,122.58L201.25,115.87L205.63,157.06L210,130.09L214.38,60.26L218.75,151.09L223.13,159.92L227.5,138.11L231.88,142.35L236.25,183.62L240.63,140.24L245,57.29L249.38,122.14L297.5,164.01L301.88,132.48L350,129.25L354.38,122.88L358.75,163.31L363.13,162.78L367.5,104.72L371.88,112.65L376.25,112.32L380.63,122.16L385,119.33L389.38,160.44L398.13,113.13L402.5,105.69L406.88,112.75L411.25,103.03L415.63,119.4L420,145.05L428.75,124.13L433.13,104.63L437.5,126.02L441.88,106.42L446.25,137.8L450.63,159.99L455,132.91L459.38,115.8L463.75,160.2L468.13,115.49L472.5,109.26L476.88,109.69L481.25,161.5L485.63,135.22L490,112.84L494.38,108.44L498.75,115.57L503.13,101.29L507.5,119.7L511.88,158L516.25,104.37L520.63,122.76L525,138.25L529.38,116.56L533.75,108.88L538.13,140.72L542.5,160.73L546.88,149.48L551.25,112.71L555.63,134.83L560,125.78L564.38,90.12L568.75,89.79L573.13,148.12L577.5,126.41L581.88,132.51L590.63,121.2L595,141.15L599.38,128.41L603.75,137.21L608.13,112.28L612.5,123.82L616.88,134.7L621.25,154.47L625.63,107.59L630,121.65L634.38,130.13L638.75,123.62L643.13,106.33L647.5,76.6L651.88,111.74L656.25,127.79L660.63,134.26L665,123.64L669.38,130.42L673.75,124.61L678.13,111.49L682.5,119.15L686.88,132.64L691.25,137.98L695.63,135.41L700,141.21L704.38,125.11L708.75,114.92L713.13,117.32L717.5,122.36L721.88,123.86L726.25,128.6L730.63,140.52L735,127.36L739.38,109.09L743.75,108.05L748.13,128.37L752.5,124.43L756.88,131.13L761.25,123.79L765.63,117.88L770,124.45L774.38,105.91L778.75,120.19L783.13,123.92L787.5,126.25L791.88,136.45L796.25,118.95L800.63,125.01L805,122.48L809.38,117.85L813.75,130.03L818.13,132.97L822.5,130.09L826.88,133.8L831.25,128.87L835.63,135.85L840,127.1\" style=\"vector-effect: non-scaling-stroke; fill: none; stroke: rgb(239, 85, 59); stroke-opacity: 1; stroke-width: 2px; opacity: 1;\"/></g><g class=\"points\"/><g class=\"text\"/></g></g></g><g class=\"overplot\"/><path class=\"xlines-above crisp\" d=\"M0,0\" style=\"fill: none;\"/><path class=\"ylines-above crisp\" d=\"M0,0\" style=\"fill: none;\"/><g class=\"overlines-above\"/><g class=\"xaxislayer-above\"><g class=\"xtick\"><text text-anchor=\"middle\" x=\"0\" y=\"283\" transform=\"translate(123.75,0)\" style=\"font-family: 'Open Sans', verdana, arial, sans-serif; font-size: 12px; fill: rgb(242, 245, 250); fill-opacity: 1; white-space: pre; opacity: 1;\">Jun 2023</text></g><g class=\"xtick\"><text text-anchor=\"middle\" x=\"0\" y=\"283\" style=\"font-family: 'Open Sans', verdana, arial, sans-serif; font-size: 12px; fill: rgb(242, 245, 250); fill-opacity: 1; white-space: pre; opacity: 1;\" transform=\"translate(255,0)\">Jul 2023</text></g><g class=\"xtick\"><text text-anchor=\"middle\" x=\"0\" y=\"283\" style=\"font-family: 'Open Sans', verdana, arial, sans-serif; font-size: 12px; fill: rgb(242, 245, 250); fill-opacity: 1; white-space: pre; opacity: 1;\" transform=\"translate(390.63,0)\">Aug 2023</text></g><g class=\"xtick\"><text text-anchor=\"middle\" x=\"0\" y=\"283\" style=\"font-family: 'Open Sans', verdana, arial, sans-serif; font-size: 12px; fill: rgb(242, 245, 250); fill-opacity: 1; white-space: pre; opacity: 1;\" transform=\"translate(526.25,0)\">Sep 2023</text></g><g class=\"xtick\"><text text-anchor=\"middle\" x=\"0\" y=\"283\" style=\"font-family: 'Open Sans', verdana, arial, sans-serif; font-size: 12px; fill: rgb(242, 245, 250); fill-opacity: 1; white-space: pre; opacity: 1;\" transform=\"translate(657.5,0)\">Oct 2023</text></g><g class=\"xtick\"><text text-anchor=\"middle\" x=\"0\" y=\"283\" style=\"font-family: 'Open Sans', verdana, arial, sans-serif; font-size: 12px; fill: rgb(242, 245, 250); fill-opacity: 1; white-space: pre; opacity: 1;\" transform=\"translate(793.13,0)\">Nov 2023</text></g></g><g class=\"yaxislayer-above\"><g class=\"ytick\"><text text-anchor=\"end\" x=\"79\" y=\"4.199999999999999\" transform=\"translate(0,236.45)\" style=\"font-family: 'Open Sans', verdana, arial, sans-serif; font-size: 12px; fill: rgb(242, 245, 250); fill-opacity: 1; white-space: pre; opacity: 1;\">−5</text></g><g class=\"ytick\"><text text-anchor=\"end\" x=\"79\" y=\"4.199999999999999\" style=\"font-family: 'Open Sans', verdana, arial, sans-serif; font-size: 12px; fill: rgb(242, 245, 250); fill-opacity: 1; white-space: pre; opacity: 1;\" transform=\"translate(0,185.16)\">0</text></g><g class=\"ytick\"><text text-anchor=\"end\" x=\"79\" y=\"4.199999999999999\" style=\"font-family: 'Open Sans', verdana, arial, sans-serif; font-size: 12px; fill: rgb(242, 245, 250); fill-opacity: 1; white-space: pre; opacity: 1;\" transform=\"translate(0,133.87)\">5</text></g><g class=\"ytick\"><text text-anchor=\"end\" x=\"79\" y=\"4.199999999999999\" style=\"font-family: 'Open Sans', verdana, arial, sans-serif; font-size: 12px; fill: rgb(242, 245, 250); fill-opacity: 1; white-space: pre; opacity: 1;\" transform=\"translate(0,82.58)\">10</text></g></g><g class=\"overaxes-above\"/></g></g><g class=\"polarlayer\"/><g class=\"smithlayer\"/><g class=\"ternarylayer\"/><g class=\"geolayer\"/><g class=\"funnelarealayer\"/><g class=\"pielayer\"/><g class=\"iciclelayer\"/><g class=\"treemaplayer\"/><g class=\"sunburstlayer\"/><g class=\"glimages\"/><defs id=\"topdefs-cc4e1b\"><g class=\"clips\"/></defs><g class=\"layer-above\"><g class=\"imagelayer\"/><g class=\"shapelayer\"/></g><g class=\"infolayer\"><g class=\"g-gtitle\"/><g class=\"g-xtitle\"><text class=\"xtitle\" x=\"500\" y=\"310.8\" text-anchor=\"middle\" style=\"font-family: 'Open Sans', verdana, arial, sans-serif; font-size: 14px; fill: rgb(242, 245, 250); opacity: 1; font-weight: normal; white-space: pre;\">Date</text></g><g class=\"g-ytitle\"><text class=\"ytitle\" transform=\"rotate(-90,36.746875,165)\" x=\"36.746875\" y=\"165\" text-anchor=\"middle\" style=\"font-family: 'Open Sans', verdana, arial, sans-serif; font-size: 14px; fill: rgb(242, 245, 250); opacity: 1; font-weight: normal; white-space: pre;\">Kbps</text></g></g></svg>"
      ]
     },
     "metadata": {},
     "output_type": "display_data"
    }
   ],
   "source": [
    "fig = px.line(df_c,\n",
    "                        x=df_c.index,\n",
    "                        y=['Value','Predicted_Values'],\n",
    "                        template = 'plotly_dark').update_layout(\n",
    "                            xaxis_title=\"Date\",\n",
    "                            yaxis_title=\"Kbps\",\n",
    "                        )\n",
    "\n",
    "fig.update_layout(width = 1000, height=350,showlegend=False)\n",
    "\n",
    "fig.show()"
   ]
  },
  {
   "cell_type": "markdown",
   "id": "cdd55a77",
   "metadata": {},
   "source": [
    "#### Rollback"
   ]
  },
  {
   "cell_type": "code",
   "execution_count": 40,
   "id": "ab1d3199",
   "metadata": {},
   "outputs": [],
   "source": [
    "df_c.Value += np.log(df).shift(1).Value\n",
    "df_c.Value += np.log(df).diff().shift(12).Value\n",
    "df_c.Predicted_Values += np.log(df).shift(1).Value\n",
    "df_c.Predicted_Values += np.log(df).diff().shift(12).Value\n",
    "df_c.Value = np.exp(df_c.Value)\n",
    "df_c.Predicted_Values = np.exp(df_c.Predicted_Values)"
   ]
  },
  {
   "cell_type": "code",
   "execution_count": 41,
   "id": "39488d9c",
   "metadata": {},
   "outputs": [
    {
     "data": {
      "text/html": [
       "<div>\n",
       "<style scoped>\n",
       "    .dataframe tbody tr th:only-of-type {\n",
       "        vertical-align: middle;\n",
       "    }\n",
       "\n",
       "    .dataframe tbody tr th {\n",
       "        vertical-align: top;\n",
       "    }\n",
       "\n",
       "    .dataframe thead th {\n",
       "        text-align: right;\n",
       "    }\n",
       "</style>\n",
       "<table border=\"1\" class=\"dataframe\">\n",
       "  <thead>\n",
       "    <tr style=\"text-align: right;\">\n",
       "      <th></th>\n",
       "      <th>Value</th>\n",
       "      <th>Shifted_values_1</th>\n",
       "      <th>Shifted_values_2</th>\n",
       "      <th>Shifted_values_3</th>\n",
       "      <th>Shifted_values_4</th>\n",
       "      <th>Shifted_values_5</th>\n",
       "      <th>Shifted_values_6</th>\n",
       "      <th>Shifted_values_7</th>\n",
       "      <th>Shifted_values_8</th>\n",
       "      <th>Predicted_Values</th>\n",
       "    </tr>\n",
       "    <tr>\n",
       "      <th>Date</th>\n",
       "      <th></th>\n",
       "      <th></th>\n",
       "      <th></th>\n",
       "      <th></th>\n",
       "      <th></th>\n",
       "      <th></th>\n",
       "      <th></th>\n",
       "      <th></th>\n",
       "      <th></th>\n",
       "      <th></th>\n",
       "    </tr>\n",
       "  </thead>\n",
       "  <tbody>\n",
       "    <tr>\n",
       "      <th>2023-05-22</th>\n",
       "      <td>4909.75</td>\n",
       "      <td>-1.062032</td>\n",
       "      <td>-5.103278</td>\n",
       "      <td>2.895633</td>\n",
       "      <td>2.031449</td>\n",
       "      <td>-3.961225</td>\n",
       "      <td>0.578889</td>\n",
       "      <td>2.494913</td>\n",
       "      <td>-3.526635</td>\n",
       "      <td>NaN</td>\n",
       "    </tr>\n",
       "    <tr>\n",
       "      <th>2023-05-23</th>\n",
       "      <td>3567.39</td>\n",
       "      <td>4.392659</td>\n",
       "      <td>-1.062032</td>\n",
       "      <td>-5.103278</td>\n",
       "      <td>2.895633</td>\n",
       "      <td>2.031449</td>\n",
       "      <td>-3.961225</td>\n",
       "      <td>0.578889</td>\n",
       "      <td>2.494913</td>\n",
       "      <td>NaN</td>\n",
       "    </tr>\n",
       "    <tr>\n",
       "      <th>2023-05-24</th>\n",
       "      <td>11716.74</td>\n",
       "      <td>-1.082100</td>\n",
       "      <td>4.392659</td>\n",
       "      <td>-1.062032</td>\n",
       "      <td>-5.103278</td>\n",
       "      <td>2.895633</td>\n",
       "      <td>2.031449</td>\n",
       "      <td>-3.961225</td>\n",
       "      <td>0.578889</td>\n",
       "      <td>NaN</td>\n",
       "    </tr>\n",
       "    <tr>\n",
       "      <th>2023-05-25</th>\n",
       "      <td>1639.76</td>\n",
       "      <td>1.853407</td>\n",
       "      <td>-1.082100</td>\n",
       "      <td>4.392659</td>\n",
       "      <td>-1.062032</td>\n",
       "      <td>-5.103278</td>\n",
       "      <td>2.895633</td>\n",
       "      <td>2.031449</td>\n",
       "      <td>-3.961225</td>\n",
       "      <td>NaN</td>\n",
       "    </tr>\n",
       "    <tr>\n",
       "      <th>2023-05-26</th>\n",
       "      <td>8066.85</td>\n",
       "      <td>-0.191652</td>\n",
       "      <td>1.853407</td>\n",
       "      <td>-1.082100</td>\n",
       "      <td>4.392659</td>\n",
       "      <td>-1.062032</td>\n",
       "      <td>-5.103278</td>\n",
       "      <td>2.895633</td>\n",
       "      <td>2.031449</td>\n",
       "      <td>26278.646786</td>\n",
       "    </tr>\n",
       "    <tr>\n",
       "      <th>...</th>\n",
       "      <td>...</td>\n",
       "      <td>...</td>\n",
       "      <td>...</td>\n",
       "      <td>...</td>\n",
       "      <td>...</td>\n",
       "      <td>...</td>\n",
       "      <td>...</td>\n",
       "      <td>...</td>\n",
       "      <td>...</td>\n",
       "      <td>...</td>\n",
       "    </tr>\n",
       "    <tr>\n",
       "      <th>2023-11-26</th>\n",
       "      <td>5114.13</td>\n",
       "      <td>-0.813056</td>\n",
       "      <td>-0.060324</td>\n",
       "      <td>0.689863</td>\n",
       "      <td>-0.039942</td>\n",
       "      <td>0.585162</td>\n",
       "      <td>0.938449</td>\n",
       "      <td>-1.545129</td>\n",
       "      <td>0.286070</td>\n",
       "      <td>1380.289164</td>\n",
       "    </tr>\n",
       "    <tr>\n",
       "      <th>2023-11-27</th>\n",
       "      <td>15298.51</td>\n",
       "      <td>0.829407</td>\n",
       "      <td>-0.813056</td>\n",
       "      <td>-0.060324</td>\n",
       "      <td>0.689863</td>\n",
       "      <td>-0.039942</td>\n",
       "      <td>0.585162</td>\n",
       "      <td>0.938449</td>\n",
       "      <td>-1.545129</td>\n",
       "      <td>5238.093698</td>\n",
       "    </tr>\n",
       "    <tr>\n",
       "      <th>2023-11-28</th>\n",
       "      <td>35018.34</td>\n",
       "      <td>0.229975</td>\n",
       "      <td>0.829407</td>\n",
       "      <td>-0.813056</td>\n",
       "      <td>-0.060324</td>\n",
       "      <td>0.689863</td>\n",
       "      <td>-0.039942</td>\n",
       "      <td>0.585162</td>\n",
       "      <td>0.938449</td>\n",
       "      <td>7861.599093</td>\n",
       "    </tr>\n",
       "    <tr>\n",
       "      <th>2023-11-29</th>\n",
       "      <td>13798.38</td>\n",
       "      <td>1.132074</td>\n",
       "      <td>0.229975</td>\n",
       "      <td>0.829407</td>\n",
       "      <td>-0.813056</td>\n",
       "      <td>-0.060324</td>\n",
       "      <td>0.689863</td>\n",
       "      <td>-0.039942</td>\n",
       "      <td>0.585162</td>\n",
       "      <td>8341.934641</td>\n",
       "    </tr>\n",
       "    <tr>\n",
       "      <th>2023-11-30</th>\n",
       "      <td>14174.81</td>\n",
       "      <td>-0.538582</td>\n",
       "      <td>1.132074</td>\n",
       "      <td>0.229975</td>\n",
       "      <td>0.829407</td>\n",
       "      <td>-0.813056</td>\n",
       "      <td>-0.060324</td>\n",
       "      <td>0.689863</td>\n",
       "      <td>-0.039942</td>\n",
       "      <td>13741.930989</td>\n",
       "    </tr>\n",
       "  </tbody>\n",
       "</table>\n",
       "<p>173 rows × 10 columns</p>\n",
       "</div>"
      ],
      "text/plain": [
       "               Value  Shifted_values_1  Shifted_values_2  Shifted_values_3  \\\n",
       "Date                                                                         \n",
       "2023-05-22   4909.75         -1.062032         -5.103278          2.895633   \n",
       "2023-05-23   3567.39          4.392659         -1.062032         -5.103278   \n",
       "2023-05-24  11716.74         -1.082100          4.392659         -1.062032   \n",
       "2023-05-25   1639.76          1.853407         -1.082100          4.392659   \n",
       "2023-05-26   8066.85         -0.191652          1.853407         -1.082100   \n",
       "...              ...               ...               ...               ...   \n",
       "2023-11-26   5114.13         -0.813056         -0.060324          0.689863   \n",
       "2023-11-27  15298.51          0.829407         -0.813056         -0.060324   \n",
       "2023-11-28  35018.34          0.229975          0.829407         -0.813056   \n",
       "2023-11-29  13798.38          1.132074          0.229975          0.829407   \n",
       "2023-11-30  14174.81         -0.538582          1.132074          0.229975   \n",
       "\n",
       "            Shifted_values_4  Shifted_values_5  Shifted_values_6  \\\n",
       "Date                                                               \n",
       "2023-05-22          2.031449         -3.961225          0.578889   \n",
       "2023-05-23          2.895633          2.031449         -3.961225   \n",
       "2023-05-24         -5.103278          2.895633          2.031449   \n",
       "2023-05-25         -1.062032         -5.103278          2.895633   \n",
       "2023-05-26          4.392659         -1.062032         -5.103278   \n",
       "...                      ...               ...               ...   \n",
       "2023-11-26         -0.039942          0.585162          0.938449   \n",
       "2023-11-27          0.689863         -0.039942          0.585162   \n",
       "2023-11-28         -0.060324          0.689863         -0.039942   \n",
       "2023-11-29         -0.813056         -0.060324          0.689863   \n",
       "2023-11-30          0.829407         -0.813056         -0.060324   \n",
       "\n",
       "            Shifted_values_7  Shifted_values_8  Predicted_Values  \n",
       "Date                                                              \n",
       "2023-05-22          2.494913         -3.526635               NaN  \n",
       "2023-05-23          0.578889          2.494913               NaN  \n",
       "2023-05-24         -3.961225          0.578889               NaN  \n",
       "2023-05-25          2.031449         -3.961225               NaN  \n",
       "2023-05-26          2.895633          2.031449      26278.646786  \n",
       "...                      ...               ...               ...  \n",
       "2023-11-26         -1.545129          0.286070       1380.289164  \n",
       "2023-11-27          0.938449         -1.545129       5238.093698  \n",
       "2023-11-28          0.585162          0.938449       7861.599093  \n",
       "2023-11-29         -0.039942          0.585162       8341.934641  \n",
       "2023-11-30          0.689863         -0.039942      13741.930989  \n",
       "\n",
       "[173 rows x 10 columns]"
      ]
     },
     "execution_count": 41,
     "metadata": {},
     "output_type": "execute_result"
    }
   ],
   "source": [
    "df_c"
   ]
  },
  {
   "cell_type": "code",
   "execution_count": 42,
   "id": "18520c46",
   "metadata": {},
   "outputs": [
    {
     "data": {
      "image/svg+xml": [
       "<svg class=\"main-svg\" xmlns=\"http://www.w3.org/2000/svg\" xmlns:xlink=\"http://www.w3.org/1999/xlink\" width=\"1000\" height=\"350\" style=\"\" viewBox=\"0 0 1000 350\"><rect x=\"0\" y=\"0\" width=\"1000\" height=\"350\" style=\"fill: rgb(17, 17, 17); fill-opacity: 1;\"/><defs id=\"defs-9bde95\"><g class=\"clips\"><clipPath id=\"clip9bde95xyplot\" class=\"plotclip\"><rect width=\"840\" height=\"210\"/></clipPath><clipPath class=\"axesclip\" id=\"clip9bde95x\"><rect x=\"80\" y=\"0\" width=\"840\" height=\"350\"/></clipPath><clipPath class=\"axesclip\" id=\"clip9bde95y\"><rect x=\"0\" y=\"60\" width=\"1000\" height=\"210\"/></clipPath><clipPath class=\"axesclip\" id=\"clip9bde95xy\"><rect x=\"80\" y=\"60\" width=\"840\" height=\"210\"/></clipPath></g><g class=\"gradients\"/><g class=\"patterns\"/></defs><g class=\"bglayer\"/><g class=\"layer-below\"><g class=\"imagelayer\"/><g class=\"shapelayer\"/></g><g class=\"cartesianlayer\"><g class=\"subplot xy\"><g class=\"layer-subplot\"><g class=\"shapelayer\"/><g class=\"imagelayer\"/></g><g class=\"minor-gridlayer\"><g class=\"x\"/><g class=\"y\"/></g><g class=\"gridlayer\"><g class=\"x\"><path class=\"xgrid crisp\" transform=\"translate(123.75,0)\" d=\"M0,60v210\" style=\"stroke: rgb(40, 52, 66); stroke-opacity: 1; stroke-width: 1px;\"/><path class=\"xgrid crisp\" transform=\"translate(255,0)\" d=\"M0,60v210\" style=\"stroke: rgb(40, 52, 66); stroke-opacity: 1; stroke-width: 1px;\"/><path class=\"xgrid crisp\" transform=\"translate(390.63,0)\" d=\"M0,60v210\" style=\"stroke: rgb(40, 52, 66); stroke-opacity: 1; stroke-width: 1px;\"/><path class=\"xgrid crisp\" transform=\"translate(526.25,0)\" d=\"M0,60v210\" style=\"stroke: rgb(40, 52, 66); stroke-opacity: 1; stroke-width: 1px;\"/><path class=\"xgrid crisp\" transform=\"translate(657.5,0)\" d=\"M0,60v210\" style=\"stroke: rgb(40, 52, 66); stroke-opacity: 1; stroke-width: 1px;\"/><path class=\"xgrid crisp\" transform=\"translate(793.13,0)\" d=\"M0,60v210\" style=\"stroke: rgb(40, 52, 66); stroke-opacity: 1; stroke-width: 1px;\"/></g><g class=\"y\"><path class=\"ygrid crisp\" transform=\"translate(0,215.44)\" d=\"M80,0h840\" style=\"stroke: rgb(40, 52, 66); stroke-opacity: 1; stroke-width: 1px;\"/><path class=\"ygrid crisp\" transform=\"translate(0,171.37)\" d=\"M80,0h840\" style=\"stroke: rgb(40, 52, 66); stroke-opacity: 1; stroke-width: 1px;\"/><path class=\"ygrid crisp\" transform=\"translate(0,127.29)\" d=\"M80,0h840\" style=\"stroke: rgb(40, 52, 66); stroke-opacity: 1; stroke-width: 1px;\"/><path class=\"ygrid crisp\" transform=\"translate(0,83.22)\" d=\"M80,0h840\" style=\"stroke: rgb(40, 52, 66); stroke-opacity: 1; stroke-width: 1px;\"/></g></g><g class=\"zerolinelayer\"><path class=\"yzl zl crisp\" transform=\"translate(0,259.51)\" d=\"M80,0h840\" style=\"stroke: rgb(40, 52, 66); stroke-opacity: 1; stroke-width: 2px;\"/></g><path class=\"xlines-below\"/><path class=\"ylines-below\"/><g class=\"overlines-below\"/><g class=\"xaxislayer-below\"/><g class=\"yaxislayer-below\"/><g class=\"overaxes-below\"/><g class=\"plot\" transform=\"translate(80,60)\" clip-path=\"url(#clip9bde95xyplot)\"><g class=\"scatterlayer mlayer\"><g class=\"trace scatter tracec17a06\" style=\"stroke-miterlimit: 2; opacity: 1;\"><g class=\"fills\"/><g class=\"errorbars\"/><g class=\"lines\"><path class=\"js-line\" d=\"M0,197.35L4.38,197.94L8.75,194.35L13.13,198.79L17.5,195.96L21.88,199.31L26.25,199.48L30.63,193.49L35,199.13L48.13,199.32L52.5,199.32L56.88,199.49L61.25,197.75L65.63,180.82L70,199.03L74.38,199.14L78.75,191.69L83.13,198.44L87.5,199.47L91.88,193.85L96.25,198.01L100.63,194.8L105,199.03L122.5,199.14L126.88,197.5L131.25,198.7L135.63,198.49L140,198.18L144.38,194.38L148.75,196.39L153.13,184.93L157.5,178.88L161.88,199.48L179.38,199.48L183.75,195.01L188.13,182.88L192.5,199.13L196.88,198.23L201.25,195.88L205.63,198.48L210,199.48L214.38,196.26L218.75,196.14L223.13,198.61L227.5,197.64L231.88,197.48L236.25,198.4L240.63,199.43L245,195.72L249.38,197.85L297.5,199.46L301.88,199.47L350,198.09L358.75,199.32L363.13,199.47L371.88,199.26L376.25,195.63L380.63,199.15L385,197.72L389.38,199.42L393.75,199.46L402.5,198.52L406.88,199.02L411.25,198.32L415.63,199.23L433.13,199.24L437.5,198.58L446.25,195.39L450.63,199.19L455,199.48L459.38,195.43L463.75,198.75L468.13,196.05L472.5,198.03L476.88,198.09L481.25,199.46L485.63,199.36L490,199.28L494.38,198.01L498.75,195.7L503.13,198.14L507.5,197.6L511.88,199.32L516.25,199.35L520.63,196.91L525,199.01L529.38,195.79L533.75,193.76L538.13,194.93L542.5,197.53L546.88,198.93L551.25,196.28L555.63,196.5L560,197.14L564.38,199.44L568.75,196.87L573.13,198.2L577.5,197.61L581.88,179.97L586.25,195.7L590.63,165.95L595,182.55L599.38,190.09L603.75,197.2L608.13,192.89L612.5,194.23L616.88,181.19L621.25,171.54L625.63,187.15L630,197.59L634.38,194.46L638.75,197.64L643.13,196.22L647.5,173.77L651.88,179.03L656.25,189.56L660.63,195.93L669.38,196.87L673.75,196.31L678.13,182.91L682.5,185.73L686.88,154.74L691.25,193.78L695.63,194.13L700,195.89L704.38,193.74L708.75,176.2L713.13,177.53L717.5,186.69L721.88,195.01L726.25,196.27L730.63,193.46L735,194.05L739.38,172.53L743.75,178.69L748.13,190.87L752.5,190.91L756.88,197.27L761.25,197.23L765.63,189.47L770,197.32L774.38,194.29L778.75,195.66L783.13,196.91L787.5,196.38L791.88,196.22L796.25,193.02L800.63,194.67L805,194.88L809.38,197.11L813.75,197.2L818.13,195.01L822.5,197.26L826.88,192.77L831.25,184.08L835.63,193.43L840,193.26\" style=\"vector-effect: non-scaling-stroke; fill: none; stroke: rgb(99, 110, 250); stroke-opacity: 1; stroke-width: 2px; opacity: 1;\"/></g><g class=\"points\"/><g class=\"text\"/></g><g class=\"trace scatter trace40d285\" style=\"stroke-miterlimit: 2; opacity: 1;\"><g class=\"fills\"/><g class=\"errorbars\"/><g class=\"lines\"><path class=\"js-line\" d=\"M17.5,187.93L21.88,198.7L26.25,199.37L35,199.46L39.38,196.54L43.75,198.94L48.13,199.39L56.88,199.43L61.25,192.39L65.63,198.31L70,196.04L74.38,198.57L78.75,199.35L83.13,197.82L87.5,199.49L96.25,198.56L100.63,199.42L105,197.01L109.38,197.83L113.75,198.39L118.13,197.97L122.5,198.67L126.88,198.08L131.25,178.53L135.63,195.63L140,199.34L144.38,196.95L148.75,199.38L153.13,181.59L157.5,197.17L161.88,199.27L170.63,198.45L175,199.39L179.38,199.14L183.75,197.95L188.13,195.15L192.5,198.83L196.88,197.65L201.25,197.58L205.63,198.75L210,198.61L214.38,199.49L218.75,198.59L223.13,199.45L227.5,199.37L245,198.18L249.38,182.15L297.5,199.26L301.88,199.5L350,199.11L354.38,198.01L358.75,199.44L363.13,199.48L385,198.81L389.38,199.19L393.75,199.45L398.13,198.77L402.5,198.18L406.88,198.4L411.25,197.76L415.63,199.07L424.38,199.49L428.75,198.69L433.13,199.43L437.5,198.27L441.88,199.23L446.25,199.05L450.63,198.46L455,199.11L463.75,199.18L468.13,199.04L472.5,192.8L476.88,196.78L481.25,199.41L485.63,199.47L498.75,193.84L503.13,196.45L507.5,199.28L511.88,189.71L516.25,199.25L520.63,198.57L525,199.2L529.38,198.39L533.75,198.87L538.13,195.73L542.5,199.29L546.88,198.3L551.25,194.54L555.63,199.06L564.38,192.46L568.75,197.47L573.13,195L577.5,199.29L581.88,192.68L586.25,173.27L590.63,195.05L595,196.46L599.38,195.87L603.75,183.38L608.13,191.95L612.5,193.57L616.88,199.45L621.25,162.22L625.63,122.86L630,174.22L638.75,198.37L643.13,96.05L647.5,10.5L651.88,146.63L656.25,195.62L660.63,187.79L665,196.2L669.38,193.64L673.75,195.25L678.13,194.14L682.5,194.87L686.88,182.03L691.25,194.75L695.63,195.81L700,190.7L704.38,196.61L708.75,191.91L713.13,181.49L717.5,176.74L721.88,185.88L726.25,195.61L730.63,195.76L735,195.46L739.38,114.52L743.75,181.21L748.13,185.21L752.5,193.26L756.88,191.86L761.25,189.16L765.63,195.13L770,193.24L774.38,194.48L778.75,193.42L783.13,191.4L787.5,197.4L791.88,194.37L796.25,194.86L800.63,196.77L805,193.26L809.38,197.05L813.75,197.99L818.13,194.77L822.5,198.9L826.88,197.2L831.25,196.05L835.63,195.83L840,193.45\" style=\"vector-effect: non-scaling-stroke; fill: none; stroke: rgb(239, 85, 59); stroke-opacity: 1; stroke-width: 2px; opacity: 1;\"/></g><g class=\"points\"/><g class=\"text\"/></g></g></g><g class=\"overplot\"/><path class=\"xlines-above crisp\" d=\"M0,0\" style=\"fill: none;\"/><path class=\"ylines-above crisp\" d=\"M0,0\" style=\"fill: none;\"/><g class=\"overlines-above\"/><g class=\"xaxislayer-above\"><g class=\"xtick\"><text text-anchor=\"middle\" x=\"0\" y=\"283\" transform=\"translate(123.75,0)\" style=\"font-family: 'Open Sans', verdana, arial, sans-serif; font-size: 12px; fill: rgb(242, 245, 250); fill-opacity: 1; white-space: pre; opacity: 1;\">Jun 2023</text></g><g class=\"xtick\"><text text-anchor=\"middle\" x=\"0\" y=\"283\" style=\"font-family: 'Open Sans', verdana, arial, sans-serif; font-size: 12px; fill: rgb(242, 245, 250); fill-opacity: 1; white-space: pre; opacity: 1;\" transform=\"translate(255,0)\">Jul 2023</text></g><g class=\"xtick\"><text text-anchor=\"middle\" x=\"0\" y=\"283\" style=\"font-family: 'Open Sans', verdana, arial, sans-serif; font-size: 12px; fill: rgb(242, 245, 250); fill-opacity: 1; white-space: pre; opacity: 1;\" transform=\"translate(390.63,0)\">Aug 2023</text></g><g class=\"xtick\"><text text-anchor=\"middle\" x=\"0\" y=\"283\" style=\"font-family: 'Open Sans', verdana, arial, sans-serif; font-size: 12px; fill: rgb(242, 245, 250); fill-opacity: 1; white-space: pre; opacity: 1;\" transform=\"translate(526.25,0)\">Sep 2023</text></g><g class=\"xtick\"><text text-anchor=\"middle\" x=\"0\" y=\"283\" style=\"font-family: 'Open Sans', verdana, arial, sans-serif; font-size: 12px; fill: rgb(242, 245, 250); fill-opacity: 1; white-space: pre; opacity: 1;\" transform=\"translate(657.5,0)\">Oct 2023</text></g><g class=\"xtick\"><text text-anchor=\"middle\" x=\"0\" y=\"283\" style=\"font-family: 'Open Sans', verdana, arial, sans-serif; font-size: 12px; fill: rgb(242, 245, 250); fill-opacity: 1; white-space: pre; opacity: 1;\" transform=\"translate(793.13,0)\">Nov 2023</text></g></g><g class=\"yaxislayer-above\"><g class=\"ytick\"><text text-anchor=\"end\" x=\"79\" y=\"4.199999999999999\" transform=\"translate(0,259.51)\" style=\"font-family: 'Open Sans', verdana, arial, sans-serif; font-size: 12px; fill: rgb(242, 245, 250); fill-opacity: 1; white-space: pre; opacity: 1;\">0</text></g><g class=\"ytick\"><text text-anchor=\"end\" x=\"79\" y=\"4.199999999999999\" style=\"font-family: 'Open Sans', verdana, arial, sans-serif; font-size: 12px; fill: rgb(242, 245, 250); fill-opacity: 1; white-space: pre; opacity: 1;\" transform=\"translate(0,215.44)\">100k</text></g><g class=\"ytick\"><text text-anchor=\"end\" x=\"79\" y=\"4.199999999999999\" style=\"font-family: 'Open Sans', verdana, arial, sans-serif; font-size: 12px; fill: rgb(242, 245, 250); fill-opacity: 1; white-space: pre; opacity: 1;\" transform=\"translate(0,171.37)\">200k</text></g><g class=\"ytick\"><text text-anchor=\"end\" x=\"79\" y=\"4.199999999999999\" style=\"font-family: 'Open Sans', verdana, arial, sans-serif; font-size: 12px; fill: rgb(242, 245, 250); fill-opacity: 1; white-space: pre; opacity: 1;\" transform=\"translate(0,127.29)\">300k</text></g><g class=\"ytick\"><text text-anchor=\"end\" x=\"79\" y=\"4.199999999999999\" style=\"font-family: 'Open Sans', verdana, arial, sans-serif; font-size: 12px; fill: rgb(242, 245, 250); fill-opacity: 1; white-space: pre; opacity: 1;\" transform=\"translate(0,83.22)\">400k</text></g></g><g class=\"overaxes-above\"/></g></g><g class=\"polarlayer\"/><g class=\"smithlayer\"/><g class=\"ternarylayer\"/><g class=\"geolayer\"/><g class=\"funnelarealayer\"/><g class=\"pielayer\"/><g class=\"iciclelayer\"/><g class=\"treemaplayer\"/><g class=\"sunburstlayer\"/><g class=\"glimages\"/><defs id=\"topdefs-9bde95\"><g class=\"clips\"/></defs><g class=\"layer-above\"><g class=\"imagelayer\"/><g class=\"shapelayer\"/></g><g class=\"infolayer\"><g class=\"g-gtitle\"/><g class=\"g-xtitle\"><text class=\"xtitle\" x=\"500\" y=\"310.8\" text-anchor=\"middle\" style=\"font-family: 'Open Sans', verdana, arial, sans-serif; font-size: 14px; fill: rgb(242, 245, 250); opacity: 1; font-weight: normal; white-space: pre;\">Date</text></g><g class=\"g-ytitle\"><text class=\"ytitle\" transform=\"rotate(-90,24.200000000000003,165)\" x=\"24.200000000000003\" y=\"165\" text-anchor=\"middle\" style=\"font-family: 'Open Sans', verdana, arial, sans-serif; font-size: 14px; fill: rgb(242, 245, 250); opacity: 1; font-weight: normal; white-space: pre;\">Kbps</text></g></g></svg>"
      ]
     },
     "metadata": {},
     "output_type": "display_data"
    }
   ],
   "source": [
    "fig = px.line(df_c,\n",
    "                        x=df_c.index,\n",
    "                        y=['Value','Predicted_Values'],\n",
    "                        template = 'plotly_dark').update_layout(\n",
    "                            xaxis_title=\"Date\",\n",
    "                            yaxis_title=\"Kbps\",\n",
    "                        )\n",
    "\n",
    "fig.update_layout(width = 1000, height=350,showlegend=False)\n",
    "\n",
    "fig.show()"
   ]
  },
  {
   "cell_type": "code",
   "execution_count": 43,
   "id": "77f68be3",
   "metadata": {},
   "outputs": [],
   "source": [
    "df_c.dropna(inplace=True)\n",
    "RMSE = np.sqrt(mean_squared_error(df_c['Value'], df_c['Predicted_Values']))"
   ]
  },
  {
   "cell_type": "code",
   "execution_count": 44,
   "id": "1fb9d443",
   "metadata": {},
   "outputs": [
    {
     "name": "stdout",
     "output_type": "stream",
     "text": [
      "RMSE: 39894.908494940326\n"
     ]
    }
   ],
   "source": [
    "df_c.dropna(inplace=True)\n",
    "print(f\"RMSE: {np.sqrt(mean_squared_error(df_c.Value, df_c.Predicted_Values))}\")"
   ]
  },
  {
   "cell_type": "markdown",
   "id": "f65a041d",
   "metadata": {},
   "source": [
    "### Results from ARIMA Modelling\n",
    "\n",
    "\n",
    "In the provided examples, the comparison between modeling stationary data and non-stationary data using ARIMA shows significant differences in the RMSE values and model performance.\n",
    "\n",
    "Modeling Stationary Data:\n",
    "\n",
    "AR Modeling: The best AR model for the stationary data achieved an RMSE of 5611.2 with p=16.\n",
    "MA Modeling: The best MA model for the stationary data achieved an RMSE of 5432.8 with q=17.\n",
    "Combined ARIMA Model: The combined ARIMA model for the stationary data achieved an RMSE of 4957.9.\n",
    "Modeling Non-Stationary Data:\n",
    "\n",
    "Differencing: The non-stationary data was differenced until it became stationary.\n",
    "AR Modeling: The best AR model for the non-stationary data achieved an RMSE of 0.780 with p=8 (in log scale).\n",
    "MA Modeling: The best MA model for the non-stationary data achieved an RMSE of 0.752 with q=4 (in log scale).\n",
    "Combined ARIMA Model: The combined ARIMA model for the non-stationary data achieved an RMSE of 39894.9.\n",
    "Comparison:\n",
    "\n",
    "The RMSE values for modeling stationary data are relatively low, indicating better predictive performance compared to modeling non-stationary data.\n",
    "The non-stationary data required differencing to become stationary before modeling, which can impact the complexity and accuracy of the model.\n",
    "The RMSE for the combined ARIMA model on the non-stationary data is much higher compared to the stationary data, indicating that the model may not be effectively capturing the underlying patterns in the data.\n",
    "In summary, the comparison highlights the importance of addressing stationarity in time series data and the impact it can have on the performance of ARIMA models."
   ]
  },
  {
   "cell_type": "markdown",
   "id": "cc93ae47",
   "metadata": {},
   "source": [
    "----"
   ]
  }
 ],
 "metadata": {
  "kernelspec": {
   "display_name": "Python 3 (ipykernel)",
   "language": "python",
   "name": "python3"
  },
  "language_info": {
   "codemirror_mode": {
    "name": "ipython",
    "version": 3
   },
   "file_extension": ".py",
   "mimetype": "text/x-python",
   "name": "python",
   "nbconvert_exporter": "python",
   "pygments_lexer": "ipython3",
   "version": "3.11.5"
  }
 },
 "nbformat": 4,
 "nbformat_minor": 5
}
